{
 "cells": [
  {
   "cell_type": "code",
   "execution_count": 1,
   "metadata": {},
   "outputs": [
    {
     "name": "stderr",
     "output_type": "stream",
     "text": [
      "C:\\Users\\blackbak\\Anaconda3\\envs\\pytorch\\lib\\site-packages\\gensim\\utils.py:1197: UserWarning: detected Windows; aliasing chunkize to chunkize_serial\n",
      "  warnings.warn(\"detected Windows; aliasing chunkize to chunkize_serial\")\n"
     ]
    }
   ],
   "source": [
    "import numpy as np\n",
    "import json\n",
    "import gensim\n",
    "from text_prep import *\n",
    "import torch\n",
    "import torch.nn as nn\n",
    "from torch.nn.utils.rnn import pack_sequence, pad_sequence, pad_packed_sequence, pack_padded_sequence\n",
    "import matplotlib.pyplot as plt\n",
    "from torch import optim"
   ]
  },
  {
   "cell_type": "code",
   "execution_count": 2,
   "metadata": {},
   "outputs": [],
   "source": [
    "with open(\"C:/Users/blackbak/Documents/github/data/squad_data/train-v2.0.json\") as f:\n",
    "    data = json.load(f)"
   ]
  },
  {
   "cell_type": "code",
   "execution_count": 3,
   "metadata": {},
   "outputs": [],
   "source": [
    "#m =0\n",
    "questions = []\n",
    "for i in range(len(data[\"data\"])):\n",
    "    for j in range(len(data[\"data\"][i][\"paragraphs\"])):\n",
    "        for k in range(len(data[\"data\"][i][\"paragraphs\"][j][\"qas\"])):\n",
    "            questions.append(data[\"data\"][i][\"paragraphs\"][j][\"qas\"][k][\"question\"])"
   ]
  },
  {
   "cell_type": "code",
   "execution_count": 4,
   "metadata": {},
   "outputs": [],
   "source": [
    "model = build_w2v_model(questions)"
   ]
  },
  {
   "cell_type": "code",
   "execution_count": 5,
   "metadata": {},
   "outputs": [],
   "source": [
    "questions_idx = [sentence2idx(model, sentence) for sentence in questions]"
   ]
  },
  {
   "cell_type": "code",
   "execution_count": 6,
   "metadata": {},
   "outputs": [],
   "source": [
    "use_cuda = torch.cuda.is_available()\n",
    "device = torch.device(\"cuda:0\" if use_cuda else \"cpu:0\")\n",
    "torch.backends.cudnn.benchmark = True"
   ]
  },
  {
   "cell_type": "code",
   "execution_count": 8,
   "metadata": {},
   "outputs": [],
   "source": [
    "embedding = gensim2embedding(model, device)"
   ]
  },
  {
   "cell_type": "code",
   "execution_count": 41,
   "metadata": {},
   "outputs": [],
   "source": [
    "class Discriminator(nn.Module):\n",
    "    def __init__(self, embed_dimension, hidden_size, num_layers):\n",
    "        super(Discriminator, self).__init__()\n",
    "        self.embed_dimension = embed_dimension\n",
    "        self.hidden_size = hidden_size\n",
    "        self.num_layers = num_layers\n",
    "        self.rnn = nn.GRU(input_size=embed_dimension, hidden_size=hidden_size, num_layers=num_layers, batch_first=True, bidirectional=True)\n",
    "        self.fc1 = nn.Linear(2*hidden_size, 300) # since we want bidirectional\n",
    "        self.fc2 = nn.Linear(300, 1)\n",
    "        self.activation_fc1 = nn.SELU()\n",
    "        self.activation_fc2 = nn.Sigmoid()\n",
    "        \n",
    "    def forward(self, padded_input, input_lengths, batch_size):\n",
    "        #total_length = padded_input.size(1) #padded_input must be ordered by size\n",
    "        packed_input = pack_padded_sequence(padded_input, input_lengths, batch_first=True)\n",
    "        packed_output, last_hidden = self.rnn(packed_input)\n",
    "        last_hidden = last_hidden.permute(1, 0, 2)\n",
    "        last_hidden = last_hidden[:, -2:, :].reshape([batch_size,-1])\n",
    "        #gru_output, sequence_length = pad_packed_sequence(packed_output, batch_first=True, total_length = total_length)\n",
    "        fc1 = self.activation_fc1(self.fc1(last_hidden))\n",
    "        discriminator_output = self.activation_fc2(self.fc2(fc1))\n",
    "        return discriminator_output"
   ]
  },
  {
   "cell_type": "code",
   "execution_count": 106,
   "metadata": {},
   "outputs": [],
   "source": [
    "class Discriminator(nn.Module):\n",
    "    def __init__(self, embed_dimension, hidden_size, num_layers):\n",
    "        super(Discriminator, self).__init__()\n",
    "        self.embed_dimension = embed_dimension\n",
    "        self.hidden_size = hidden_size\n",
    "        self.num_layers = num_layers\n",
    "        self.rnn = nn.GRU(input_size=embed_dimension, hidden_size=hidden_size, num_layers=num_layers, batch_first=True, bidirectional=True)\n",
    "        self.fc1 = nn.Linear(2*hidden_size, 300) # since we want bidirectional\n",
    "        self.fc2 = nn.Linear(300, 1)\n",
    "        self.activation_fc1 = nn.SELU()\n",
    "        self.activation_fc2 = nn.Sigmoid()\n",
    "        \n",
    "    def forward(self, padded_input, input_lengths, batch_size):\n",
    "        total_length = padded_input.shape[1] #padded_input must be ordered by size\n",
    "        packed_input = pack_padded_sequence(padded_input, input_lengths, batch_first=True)\n",
    "        packed_output, last_hidden = self.rnn(packed_input)\n",
    "        gru_output, sequence_length = pad_packed_sequence(packed_output, total_length = total_length)\n",
    "        last_output = gru_output[total_length-1, :, :]\n",
    "        fc1 = self.activation_fc1(self.fc1(last_output))\n",
    "        discriminator_output = self.activation_fc2(self.fc2(fc1))\n",
    "        return discriminator_output"
   ]
  },
  {
   "cell_type": "code",
   "execution_count": 70,
   "metadata": {},
   "outputs": [],
   "source": [
    "class Generator(nn.Module):\n",
    "    def __init__(self, noise_dim, embed_dimension, num_layers, embedding, eos, sos):\n",
    "        super(Generator, self).__init__()\n",
    "        self.eos_token = eos\n",
    "        self.sos_token = sos\n",
    "        self.noise_dim = noise_dim\n",
    "        self.embed_dimension = embed_dimension\n",
    "        self.hidden_size = embed_dimension\n",
    "        self.num_layers = num_layers\n",
    "        self.embedding = embedding\n",
    "        self.noise2hidden = nn.Linear(noise_dim, num_layers*embed_dimension)\n",
    "        self.tanh = nn.Tanh()\n",
    "        self.rnn = nn.GRU(input_size=embed_dimension, hidden_size=embed_dimension, num_layers=num_layers, batch_first=True)\n",
    "    \n",
    "    def most_similar(self, emb_input):\n",
    "        cos = nn.CosineSimilarity(dim=1)\n",
    "        similarity = cos(self.embedding.weight, emb_input.squeeze())\n",
    "        #similarity = torch.mv(self.embedding.weight, emb_input.squeeze())\n",
    "        value, idx = torch.max(similarity, 0)\n",
    "        return idx\n",
    "    \n",
    "    def forward(self, device):\n",
    "        noise = torch.randn(self.noise_dim).view(1,1,-1).to(device)\n",
    "        h0 = self.tanh(self.noise2hidden(noise)).view([self.num_layers, 1, self.embed_dimension])\n",
    "        #List that holds all the output (words/embeddings)\n",
    "        output = []\n",
    "        word_output = []\n",
    "        #First output with input the sos token\n",
    "        o, h = self.rnn(self.sos_token.view(1,1,-1), h0)\n",
    "        idx = self.most_similar(o)\n",
    "        output.append(o)\n",
    "        word_output.append(idx)\n",
    "        #We want to iterate for output some and then produce an eos token. Maximum length of\n",
    "        #the output we set it to 20 words or if we produce an eos token before that \n",
    "        for i in range(20):\n",
    "            o, h = self.rnn(o, h)\n",
    "            #might need to squeeze the output\n",
    "            #dot product to calculate similarity\n",
    "            #similarity = torch.mv(self.embedding, o)\n",
    "            idx = self.most_similar(o)\n",
    "            output.append(o)\n",
    "            word_output.append(idx)\n",
    "            if idx==self.eos_token:\n",
    "                break\n",
    "        #here we have the option to append the eos token or not\n",
    "        return torch.cat(output), word_output\n"
   ]
  },
  {
   "cell_type": "code",
   "execution_count": 11,
   "metadata": {},
   "outputs": [],
   "source": [
    "class Generator(nn.Module):\n",
    "    def __init__(self, noise_dim, embed_dimension, num_layers):\n",
    "        super(Generator, self).__init__()\n",
    "        self.noise_dim = noise_dim\n",
    "        self.embed_dimension = embed_dimension\n",
    "        self.hidden_size = embed_dimension\n",
    "        self.num_layers = num_layers\n",
    "        self.noise2hidden = nn.Linear(noise_dim, num_layers*embed_dimension)\n",
    "        self.tanh = nn.Tanh()\n",
    "        self.rnn = nn.GRU(input_size=embed_dimension, hidden_size=embed_dimension, num_layers=num_layers, batch_first=True)\n",
    "\n",
    "    def forward(self, o, noise=None, h=None):\n",
    "        if h is None:\n",
    "            h0 = self.tanh(self.noise2hidden(noise)).view([self.num_layers, 1, self.embed_dimension])\n",
    "            o, h = self.rnn(o, h0) #here is self.sos_token.view(1,1,-1)\n",
    "        else:\n",
    "            o, h = self.rnn(o, h)\n",
    "        return o, h\n"
   ]
  },
  {
   "cell_type": "code",
   "execution_count": 109,
   "metadata": {},
   "outputs": [],
   "source": [
    "class Generator(nn.Module):\n",
    "    def __init__(self, noise_dim, embed_dimension, num_layers):\n",
    "        super(Generator, self).__init__()\n",
    "        self.noise_dim = noise_dim\n",
    "        self.embed_dimension = embed_dimension\n",
    "        self.hidden_size = embed_dimension\n",
    "        self.num_layers = num_layers\n",
    "        self.noise2hidden = nn.Linear(noise_dim, num_layers*embed_dimension)\n",
    "        self.tanh = nn.Tanh()\n",
    "        #batch first does not work on autoregressive rnn\n",
    "        self.rnn = nn.GRU(input_size=embed_dimension, hidden_size=embed_dimension, num_layers=num_layers, batch_first=True)\n",
    "\n",
    "    def forward(self, o, h):\n",
    "        o, h = self.rnn(o, h)\n",
    "        return o, h\n",
    "    \n",
    "    def init_hidden(self, noise):\n",
    "        return self.tanh(self.noise2hidden(noise)).view([self.num_layers, 1, self.embed_dimension])\n"
   ]
  },
  {
   "cell_type": "code",
   "execution_count": 110,
   "metadata": {},
   "outputs": [],
   "source": [
    "def most_similar(embedding, emb_input):\n",
    "    #cos = nn.CosineSimilarity(dim=1)\n",
    "    #similarity = cos(embedding.weight, emb_input.view(1, -1))\n",
    "    similarity = torch.mv(embedding.weight, emb_input.squeeze())\n",
    "    value, idx = torch.max(similarity, 0)\n",
    "    return idx"
   ]
  },
  {
   "cell_type": "code",
   "execution_count": 111,
   "metadata": {},
   "outputs": [],
   "source": [
    "def train(generator, discriminator, input_sequence, embedding, generator_optimizer, discriminator_optimizer, criterion, eos):\n",
    "    #input sequence of shape [1,seq_len,300]\n",
    "    ###Discriminator training\n",
    "    #train with real data\n",
    "    discriminator_optimizer.zero_grad()\n",
    "    real_output = discriminator.forward(padded_input=input_sequence.to(device), input_lengths=torch.tensor([input_sequence.shape[1]], device=device), batch_size=1)\n",
    "    real_label = torch.ones(1, device=device)\n",
    "    real_error = criterion(real_output, real_label)\n",
    "    real_error.backward()\n",
    "    #train with fake\n",
    "    #generate sequence\n",
    "    generated_sequence = []\n",
    "    generated_idx = []\n",
    "    noise = torch.randn(generator.noise_dim).to(device)\n",
    "    o_gen = torch.zeros(embedding.weight.shape[1], device=device).view(1,1,-1)\n",
    "    h_gen = generator.init_hidden(noise)\n",
    "    for i in range(20):\n",
    "        o_gen, h_gen = generator.forward(o_gen, h_gen)\n",
    "        generated_sequence.append(o_gen)\n",
    "        idx = most_similar(embedding, o_gen)\n",
    "        generated_idx.append(idx)\n",
    "        if idx==eos:\n",
    "            break\n",
    "    generated_sequence = torch.cat(generated_sequence).view(1, -1, embedding.weight.shape[1])\n",
    "    fake_output = discriminator.forward(padded_input=generated_sequence.detach(), input_lengths=torch.tensor([generated_sequence.shape[1]], device=device), batch_size=1)\n",
    "    fake_label = torch.zeros(1, device=device)\n",
    "    fake_error = criterion(fake_output, fake_label)\n",
    "    fake_error.backward()\n",
    "    discriminator_error = real_error + fake_error\n",
    "    discriminator_optimizer.step()\n",
    "    ###Generator training\n",
    "    generator_optimizer.zero_grad()\n",
    "    fake_output_gen = discriminator.forward(padded_input=generated_sequence, input_lengths=torch.tensor([generated_sequence.shape[1]], device=device), batch_size=1)\n",
    "    fake_labels_gen = torch.ones(1, device=device)\n",
    "    generator_error = criterion(fake_output_gen, fake_labels_gen)\n",
    "    generator_error.backward()\n",
    "    generator_optimizer.step()\n",
    "    loss = discriminator_error + generator_error\n",
    "    return loss.item(), generator_error.item(), discriminator_error.item()"
   ]
  },
  {
   "cell_type": "code",
   "execution_count": 122,
   "metadata": {},
   "outputs": [],
   "source": [
    "def train_iter(generator, discriminator, dataset, embedding, eos, epochs, lr=0.001):\n",
    "    #we have to append <\\s> to each question at the end\n",
    "    total_loss = []\n",
    "    generator_optimizer = optim.Adam(generator.parameters(), lr=lr)\n",
    "    discriminator_optimizer = optim.Adam(discriminator.parameters(), lr=lr)\n",
    "    criterion = nn.BCELoss()\n",
    "    for e in range(epochs):\n",
    "        loss = 0\n",
    "        gen_loss = 0\n",
    "        dis_loss = 0\n",
    "        for i, data in enumerate(dataset):\n",
    "            embeds = embedding(torch.tensor(data+[eos], device=device)).view(1, -1, embedding.weight.shape[1])\n",
    "            current_loss, curr_gen_loss, curr_dis_loss = train(generator=generator, discriminator=discriminator, input_sequence=embeds, \n",
    "                                 embedding=embedding, generator_optimizer=generator_optimizer,\n",
    "                                 discriminator_optimizer=discriminator_optimizer, criterion=criterion, eos=eos)\n",
    "            loss += current_loss\n",
    "            gen_loss += curr_gen_loss\n",
    "            dis_loss += curr_dis_loss\n",
    "            if i%50==0:\n",
    "                total_loss.append(loss)\n",
    "                print(\"Loss at iteration {}: {}\".format(i, loss))\n",
    "                print(\"Gen loss at iteration {}: {}\".format(i, gen_loss))\n",
    "                print(\"Dis loss at iteration {}: {}\".format(i, dis_loss))\n",
    "                loss = 0\n",
    "                gen_loss = 0\n",
    "                dis_loss = 0\n",
    "\n",
    "    plot_loss(total_loss)\n",
    "            "
   ]
  },
  {
   "cell_type": "code",
   "execution_count": 113,
   "metadata": {},
   "outputs": [],
   "source": [
    "def plot_loss(loss_list):\n",
    "    plt.figure()\n",
    "    plt.plot(total_loss)"
   ]
  },
  {
   "cell_type": "code",
   "execution_count": 115,
   "metadata": {},
   "outputs": [
    {
     "data": {
      "text/plain": [
       "Generator(\n",
       "  (noise2hidden): Linear(in_features=10, out_features=300, bias=True)\n",
       "  (tanh): Tanh()\n",
       "  (rnn): GRU(300, 300, batch_first=True)\n",
       ")"
      ]
     },
     "execution_count": 115,
     "metadata": {},
     "output_type": "execute_result"
    }
   ],
   "source": [
    "generator = Generator(noise_dim=10, embed_dimension=300, num_layers=1)\n",
    "generator.to(device)"
   ]
  },
  {
   "cell_type": "code",
   "execution_count": 116,
   "metadata": {},
   "outputs": [
    {
     "data": {
      "text/plain": [
       "Discriminator(\n",
       "  (rnn): GRU(300, 32, batch_first=True, bidirectional=True)\n",
       "  (fc1): Linear(in_features=64, out_features=300, bias=True)\n",
       "  (fc2): Linear(in_features=300, out_features=1, bias=True)\n",
       "  (activation_fc1): SELU()\n",
       "  (activation_fc2): Sigmoid()\n",
       ")"
      ]
     },
     "execution_count": 116,
     "metadata": {},
     "output_type": "execute_result"
    }
   ],
   "source": [
    "discriminator = Discriminator(embed_dimension=300, hidden_size=32, num_layers=1)\n",
    "discriminator.to(device)"
   ]
  },
  {
   "cell_type": "code",
   "execution_count": 117,
   "metadata": {},
   "outputs": [],
   "source": [
    "eos = word2idx(model, \"</s>\")"
   ]
  },
  {
   "cell_type": "code",
   "execution_count": 127,
   "metadata": {},
   "outputs": [],
   "source": [
    "train_iter(generator=generator, discriminator=discriminator, \n",
    "           dataset=questions_idx, embedding=embedding, eos=eos, epochs=1, lr=0.001)"
   ]
  },
  {
   "cell_type": "code",
   "execution_count": 124,
   "metadata": {},
   "outputs": [],
   "source": [
    "def generate_question(generator, embedding, model):\n",
    "    generated_sequence = []\n",
    "    generated_idx = []\n",
    "    generated_words = []\n",
    "    noise = torch.randn(generator.noise_dim).to(device)\n",
    "    o_gen = torch.zeros(embedding.weight.shape[1], device=device).view(1,1,-1)\n",
    "    h_gen = generator.init_hidden(noise)\n",
    "    for i in range(20):\n",
    "        o_gen, h_gen = generator.forward(o_gen, h_gen)\n",
    "        generated_sequence.append(o_gen)\n",
    "        idx = most_similar(embedding, o_gen)\n",
    "        generated_idx.append(idx)\n",
    "        generated_words.append(idx2word(model, idx))\n",
    "        if idx==eos:\n",
    "            break\n",
    "    return generated_words, generated_idx"
   ]
  },
  {
   "cell_type": "code",
   "execution_count": 125,
   "metadata": {},
   "outputs": [],
   "source": [
    "q, idx = generate_question(generator, embedding, model)"
   ]
  },
  {
   "cell_type": "code",
   "execution_count": 126,
   "metadata": {},
   "outputs": [
    {
     "data": {
      "text/plain": [
       "['of',\n",
       " 'user_click',\n",
       " 'invisible_item_flow',\n",
       " 'delete_inappropriate_comments',\n",
       " 'Dow_Jones_Reprints',\n",
       " 'of',\n",
       " 'of',\n",
       " 'www.iotogo.com_HPWAinfo',\n",
       " 'Reuters.com_video_mobile',\n",
       " 'invisible_item_flow',\n",
       " 'invisible_item_flow',\n",
       " 'invisible_item_flow',\n",
       " 'Full_versions',\n",
       " 'Associated_Press_GfK_Poll',\n",
       " 'Zacks_Rank',\n",
       " 'of',\n",
       " 'of',\n",
       " 'downtick_trades_---',\n",
       " 'TradingMarkets_Weekly_Newsletter_covers',\n",
       " 'to']"
      ]
     },
     "execution_count": 126,
     "metadata": {},
     "output_type": "execute_result"
    }
   ],
   "source": [
    "q"
   ]
  },
  {
   "cell_type": "code",
   "execution_count": 128,
   "metadata": {},
   "outputs": [],
   "source": [
    "#### some changes for tracking"
   ]
  },
  {
   "cell_type": "code",
   "execution_count": null,
   "metadata": {},
   "outputs": [],
   "source": []
  }
 ],
 "metadata": {
  "kernelspec": {
   "display_name": "PyTorch",
   "language": "python",
   "name": "pytorch"
  },
  "language_info": {
   "codemirror_mode": {
    "name": "ipython",
    "version": 3
   },
   "file_extension": ".py",
   "mimetype": "text/x-python",
   "name": "python",
   "nbconvert_exporter": "python",
   "pygments_lexer": "ipython3",
   "version": "3.7.0"
  }
 },
 "nbformat": 4,
 "nbformat_minor": 2
}
