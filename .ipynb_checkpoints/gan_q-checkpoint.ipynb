{
 "cells": [
  {
   "cell_type": "code",
   "execution_count": 1,
   "metadata": {},
   "outputs": [
    {
     "name": "stderr",
     "output_type": "stream",
     "text": [
      "C:\\Users\\blackbak\\Anaconda3\\envs\\pytorch\\lib\\site-packages\\gensim\\utils.py:1197: UserWarning: detected Windows; aliasing chunkize to chunkize_serial\n",
      "  warnings.warn(\"detected Windows; aliasing chunkize to chunkize_serial\")\n"
     ]
    }
   ],
   "source": [
    "import numpy as np\n",
    "import json\n",
    "import gensim\n",
    "from text_prep import *\n",
    "import torch\n",
    "import torch.nn as nn\n",
    "from torch.nn.utils.rnn import pack_sequence, pad_sequence, pad_packed_sequence, pack_padded_sequence\n",
    "import matplotlib.pyplot as plt\n",
    "from torch import optim"
   ]
  },
  {
   "cell_type": "code",
   "execution_count": 2,
   "metadata": {},
   "outputs": [],
   "source": [
    "with open(\"C:/Users/blackbak/Documents/github/data/squad_data/train-v2.0.json\") as f:\n",
    "    data = json.load(f)"
   ]
  },
  {
   "cell_type": "code",
   "execution_count": 3,
   "metadata": {},
   "outputs": [],
   "source": [
    "#m =0\n",
    "questions = []\n",
    "for i in range(len(data[\"data\"])):\n",
    "    for j in range(len(data[\"data\"][i][\"paragraphs\"])):\n",
    "        for k in range(len(data[\"data\"][i][\"paragraphs\"][j][\"qas\"])):\n",
    "            questions.append(data[\"data\"][i][\"paragraphs\"][j][\"qas\"][k][\"question\"])"
   ]
  },
  {
   "cell_type": "code",
   "execution_count": 4,
   "metadata": {},
   "outputs": [],
   "source": [
    "model = build_w2v_model(questions)"
   ]
  },
  {
   "cell_type": "code",
   "execution_count": 5,
   "metadata": {},
   "outputs": [],
   "source": [
    "questions_idx = [sentence2idx(model, sentence) for sentence in questions]"
   ]
  },
  {
   "cell_type": "code",
   "execution_count": 6,
   "metadata": {},
   "outputs": [],
   "source": [
    "use_cuda = torch.cuda.is_available()\n",
    "device = torch.device(\"cuda:0\" if use_cuda else \"cpu:0\")\n",
    "torch.backends.cudnn.benchmark = True"
   ]
  },
  {
   "cell_type": "code",
   "execution_count": 8,
   "metadata": {},
   "outputs": [],
   "source": [
    "embedding = gensim2embedding(model, device)"
   ]
  },
  {
   "cell_type": "code",
   "execution_count": 41,
   "metadata": {},
   "outputs": [],
   "source": [
    "class Discriminator(nn.Module):\n",
    "    def __init__(self, embed_dimension, hidden_size, num_layers):\n",
    "        super(Discriminator, self).__init__()\n",
    "        self.embed_dimension = embed_dimension\n",
    "        self.hidden_size = hidden_size\n",
    "        self.num_layers = num_layers\n",
    "        self.rnn = nn.GRU(input_size=embed_dimension, hidden_size=hidden_size, num_layers=num_layers, batch_first=True, bidirectional=True)\n",
    "        self.fc1 = nn.Linear(2*hidden_size, 300) # since we want bidirectional\n",
    "        self.fc2 = nn.Linear(300, 1)\n",
    "        self.activation_fc1 = nn.SELU()\n",
    "        self.activation_fc2 = nn.Sigmoid()\n",
    "        \n",
    "    def forward(self, padded_input, input_lengths, batch_size):\n",
    "        #total_length = padded_input.size(1) #padded_input must be ordered by size\n",
    "        packed_input = pack_padded_sequence(padded_input, input_lengths, batch_first=True)\n",
    "        packed_output, last_hidden = self.rnn(packed_input)\n",
    "        last_hidden = last_hidden.permute(1, 0, 2)\n",
    "        last_hidden = last_hidden[:, -2:, :].reshape([batch_size,-1])\n",
    "        #gru_output, sequence_length = pad_packed_sequence(packed_output, batch_first=True, total_length = total_length)\n",
    "        fc1 = self.activation_fc1(self.fc1(last_hidden))\n",
    "        discriminator_output = self.activation_fc2(self.fc2(fc1))\n",
    "        return discriminator_output"
   ]
  },
  {
   "cell_type": "code",
   "execution_count": 106,
   "metadata": {},
   "outputs": [],
   "source": [
    "class Discriminator(nn.Module):\n",
    "    def __init__(self, embed_dimension, hidden_size, num_layers):\n",
    "        super(Discriminator, self).__init__()\n",
    "        self.embed_dimension = embed_dimension\n",
    "        self.hidden_size = hidden_size\n",
    "        self.num_layers = num_layers\n",
    "        self.rnn = nn.GRU(input_size=embed_dimension, hidden_size=hidden_size, num_layers=num_layers, batch_first=True, bidirectional=True)\n",
    "        self.fc1 = nn.Linear(2*hidden_size, 300) # since we want bidirectional\n",
    "        self.fc2 = nn.Linear(300, 1)\n",
    "        self.activation_fc1 = nn.SELU()\n",
    "        self.activation_fc2 = nn.Sigmoid()\n",
    "        \n",
    "    def forward(self, padded_input, input_lengths, batch_size):\n",
    "        total_length = padded_input.shape[1] #padded_input must be ordered by size\n",
    "        packed_input = pack_padded_sequence(padded_input, input_lengths, batch_first=True)\n",
    "        packed_output, last_hidden = self.rnn(packed_input)\n",
    "        gru_output, sequence_length = pad_packed_sequence(packed_output, total_length = total_length)\n",
    "        last_output = gru_output[total_length-1, :, :]\n",
    "        fc1 = self.activation_fc1(self.fc1(last_output))\n",
    "        discriminator_output = self.activation_fc2(self.fc2(fc1))\n",
    "        return discriminator_output"
   ]
  },
  {
   "cell_type": "code",
   "execution_count": 70,
   "metadata": {},
   "outputs": [],
   "source": [
    "class Generator(nn.Module):\n",
    "    def __init__(self, noise_dim, embed_dimension, num_layers, embedding, eos, sos):\n",
    "        super(Generator, self).__init__()\n",
    "        self.eos_token = eos\n",
    "        self.sos_token = sos\n",
    "        self.noise_dim = noise_dim\n",
    "        self.embed_dimension = embed_dimension\n",
    "        self.hidden_size = embed_dimension\n",
    "        self.num_layers = num_layers\n",
    "        self.embedding = embedding\n",
    "        self.noise2hidden = nn.Linear(noise_dim, num_layers*embed_dimension)\n",
    "        self.tanh = nn.Tanh()\n",
    "        self.rnn = nn.GRU(input_size=embed_dimension, hidden_size=embed_dimension, num_layers=num_layers, batch_first=True)\n",
    "    \n",
    "    def most_similar(self, emb_input):\n",
    "        cos = nn.CosineSimilarity(dim=1)\n",
    "        similarity = cos(self.embedding.weight, emb_input.squeeze())\n",
    "        #similarity = torch.mv(self.embedding.weight, emb_input.squeeze())\n",
    "        value, idx = torch.max(similarity, 0)\n",
    "        return idx\n",
    "    \n",
    "    def forward(self, device):\n",
    "        noise = torch.randn(self.noise_dim).view(1,1,-1).to(device)\n",
    "        h0 = self.tanh(self.noise2hidden(noise)).view([self.num_layers, 1, self.embed_dimension])\n",
    "        #List that holds all the output (words/embeddings)\n",
    "        output = []\n",
    "        word_output = []\n",
    "        #First output with input the sos token\n",
    "        o, h = self.rnn(self.sos_token.view(1,1,-1), h0)\n",
    "        idx = self.most_similar(o)\n",
    "        output.append(o)\n",
    "        word_output.append(idx)\n",
    "        #We want to iterate for output some and then produce an eos token. Maximum length of\n",
    "        #the output we set it to 20 words or if we produce an eos token before that \n",
    "        for i in range(20):\n",
    "            o, h = self.rnn(o, h)\n",
    "            #might need to squeeze the output\n",
    "            #dot product to calculate similarity\n",
    "            #similarity = torch.mv(self.embedding, o)\n",
    "            idx = self.most_similar(o)\n",
    "            output.append(o)\n",
    "            word_output.append(idx)\n",
    "            if idx==self.eos_token:\n",
    "                break\n",
    "        #here we have the option to append the eos token or not\n",
    "        return torch.cat(output), word_output\n"
   ]
  },
  {
   "cell_type": "code",
   "execution_count": 11,
   "metadata": {},
   "outputs": [],
   "source": [
    "class Generator(nn.Module):\n",
    "    def __init__(self, noise_dim, embed_dimension, num_layers):\n",
    "        super(Generator, self).__init__()\n",
    "        self.noise_dim = noise_dim\n",
    "        self.embed_dimension = embed_dimension\n",
    "        self.hidden_size = embed_dimension\n",
    "        self.num_layers = num_layers\n",
    "        self.noise2hidden = nn.Linear(noise_dim, num_layers*embed_dimension)\n",
    "        self.tanh = nn.Tanh()\n",
    "        self.rnn = nn.GRU(input_size=embed_dimension, hidden_size=embed_dimension, num_layers=num_layers, batch_first=True)\n",
    "\n",
    "    def forward(self, o, noise=None, h=None):\n",
    "        if h is None:\n",
    "            h0 = self.tanh(self.noise2hidden(noise)).view([self.num_layers, 1, self.embed_dimension])\n",
    "            o, h = self.rnn(o, h0) #here is self.sos_token.view(1,1,-1)\n",
    "        else:\n",
    "            o, h = self.rnn(o, h)\n",
    "        return o, h\n"
   ]
  },
  {
   "cell_type": "code",
   "execution_count": 109,
   "metadata": {},
   "outputs": [],
   "source": [
    "class Generator(nn.Module):\n",
    "    def __init__(self, noise_dim, embed_dimension, num_layers):\n",
    "        super(Generator, self).__init__()\n",
    "        self.noise_dim = noise_dim\n",
    "        self.embed_dimension = embed_dimension\n",
    "        self.hidden_size = embed_dimension\n",
    "        self.num_layers = num_layers\n",
    "        self.noise2hidden = nn.Linear(noise_dim, num_layers*embed_dimension)\n",
    "        self.tanh = nn.Tanh()\n",
    "        #batch first does not work on autoregressive rnn\n",
    "        self.rnn = nn.GRU(input_size=embed_dimension, hidden_size=embed_dimension, num_layers=num_layers, batch_first=True)\n",
    "\n",
    "    def forward(self, o, h):\n",
    "        o, h = self.rnn(o, h)\n",
    "        return o, h\n",
    "    \n",
    "    def init_hidden(self, noise):\n",
    "        return self.tanh(self.noise2hidden(noise)).view([self.num_layers, 1, self.embed_dimension])\n"
   ]
  },
  {
   "cell_type": "code",
   "execution_count": 110,
   "metadata": {},
   "outputs": [],
   "source": [
    "def most_similar(embedding, emb_input):\n",
    "    #cos = nn.CosineSimilarity(dim=1)\n",
    "    #similarity = cos(embedding.weight, emb_input.view(1, -1))\n",
    "    similarity = torch.mv(embedding.weight, emb_input.squeeze())\n",
    "    value, idx = torch.max(similarity, 0)\n",
    "    return idx"
   ]
  },
  {
   "cell_type": "code",
   "execution_count": 111,
   "metadata": {},
   "outputs": [],
   "source": [
    "def train(generator, discriminator, input_sequence, embedding, generator_optimizer, discriminator_optimizer, criterion, eos):\n",
    "    #input sequence of shape [1,seq_len,300]\n",
    "    ###Discriminator training\n",
    "    #train with real data\n",
    "    discriminator_optimizer.zero_grad()\n",
    "    real_output = discriminator.forward(padded_input=input_sequence.to(device), input_lengths=torch.tensor([input_sequence.shape[1]], device=device), batch_size=1)\n",
    "    real_label = torch.ones(1, device=device)\n",
    "    real_error = criterion(real_output, real_label)\n",
    "    real_error.backward()\n",
    "    #train with fake\n",
    "    #generate sequence\n",
    "    generated_sequence = []\n",
    "    generated_idx = []\n",
    "    noise = torch.randn(generator.noise_dim).to(device)\n",
    "    o_gen = torch.zeros(embedding.weight.shape[1], device=device).view(1,1,-1)\n",
    "    h_gen = generator.init_hidden(noise)\n",
    "    for i in range(20):\n",
    "        o_gen, h_gen = generator.forward(o_gen, h_gen)\n",
    "        generated_sequence.append(o_gen)\n",
    "        idx = most_similar(embedding, o_gen)\n",
    "        generated_idx.append(idx)\n",
    "        if idx==eos:\n",
    "            break\n",
    "    generated_sequence = torch.cat(generated_sequence).view(1, -1, embedding.weight.shape[1])\n",
    "    fake_output = discriminator.forward(padded_input=generated_sequence.detach(), input_lengths=torch.tensor([generated_sequence.shape[1]], device=device), batch_size=1)\n",
    "    fake_label = torch.zeros(1, device=device)\n",
    "    fake_error = criterion(fake_output, fake_label)\n",
    "    fake_error.backward()\n",
    "    discriminator_error = real_error + fake_error\n",
    "    discriminator_optimizer.step()\n",
    "    ###Generator training\n",
    "    generator_optimizer.zero_grad()\n",
    "    fake_output_gen = discriminator.forward(padded_input=generated_sequence, input_lengths=torch.tensor([generated_sequence.shape[1]], device=device), batch_size=1)\n",
    "    fake_labels_gen = torch.ones(1, device=device)\n",
    "    generator_error = criterion(fake_output_gen, fake_labels_gen)\n",
    "    generator_error.backward()\n",
    "    generator_optimizer.step()\n",
    "    loss = discriminator_error + generator_error\n",
    "    return loss.item(), generator_error.item(), discriminator_error.item()"
   ]
  },
  {
   "cell_type": "code",
   "execution_count": 122,
   "metadata": {},
   "outputs": [],
   "source": [
    "def train_iter(generator, discriminator, dataset, embedding, eos, epochs, lr=0.001):\n",
    "    #we have to append <\\s> to each question at the end\n",
    "    total_loss = []\n",
    "    generator_optimizer = optim.Adam(generator.parameters(), lr=lr)\n",
    "    discriminator_optimizer = optim.Adam(discriminator.parameters(), lr=lr)\n",
    "    criterion = nn.BCELoss()\n",
    "    for e in range(epochs):\n",
    "        loss = 0\n",
    "        gen_loss = 0\n",
    "        dis_loss = 0\n",
    "        for i, data in enumerate(dataset):\n",
    "            embeds = embedding(torch.tensor(data+[eos], device=device)).view(1, -1, embedding.weight.shape[1])\n",
    "            current_loss, curr_gen_loss, curr_dis_loss = train(generator=generator, discriminator=discriminator, input_sequence=embeds, \n",
    "                                 embedding=embedding, generator_optimizer=generator_optimizer,\n",
    "                                 discriminator_optimizer=discriminator_optimizer, criterion=criterion, eos=eos)\n",
    "            loss += current_loss\n",
    "            gen_loss += curr_gen_loss\n",
    "            dis_loss += curr_dis_loss\n",
    "            if i%50==0:\n",
    "                total_loss.append(loss)\n",
    "                print(\"Loss at iteration {}: {}\".format(i, loss))\n",
    "                print(\"Gen loss at iteration {}: {}\".format(i, gen_loss))\n",
    "                print(\"Dis loss at iteration {}: {}\".format(i, dis_loss))\n",
    "                loss = 0\n",
    "                gen_loss = 0\n",
    "                dis_loss = 0\n",
    "\n",
    "    plot_loss(total_loss)\n",
    "            "
   ]
  },
  {
   "cell_type": "code",
   "execution_count": 113,
   "metadata": {},
   "outputs": [],
   "source": [
    "def plot_loss(loss_list):\n",
    "    plt.figure()\n",
    "    plt.plot(total_loss)"
   ]
  },
  {
   "cell_type": "code",
   "execution_count": 115,
   "metadata": {},
   "outputs": [
    {
     "data": {
      "text/plain": [
       "Generator(\n",
       "  (noise2hidden): Linear(in_features=10, out_features=300, bias=True)\n",
       "  (tanh): Tanh()\n",
       "  (rnn): GRU(300, 300, batch_first=True)\n",
       ")"
      ]
     },
     "execution_count": 115,
     "metadata": {},
     "output_type": "execute_result"
    }
   ],
   "source": [
    "generator = Generator(noise_dim=10, embed_dimension=300, num_layers=1)\n",
    "generator.to(device)"
   ]
  },
  {
   "cell_type": "code",
   "execution_count": 116,
   "metadata": {},
   "outputs": [
    {
     "data": {
      "text/plain": [
       "Discriminator(\n",
       "  (rnn): GRU(300, 32, batch_first=True, bidirectional=True)\n",
       "  (fc1): Linear(in_features=64, out_features=300, bias=True)\n",
       "  (fc2): Linear(in_features=300, out_features=1, bias=True)\n",
       "  (activation_fc1): SELU()\n",
       "  (activation_fc2): Sigmoid()\n",
       ")"
      ]
     },
     "execution_count": 116,
     "metadata": {},
     "output_type": "execute_result"
    }
   ],
   "source": [
    "discriminator = Discriminator(embed_dimension=300, hidden_size=32, num_layers=1)\n",
    "discriminator.to(device)"
   ]
  },
  {
   "cell_type": "code",
   "execution_count": 117,
   "metadata": {},
   "outputs": [],
   "source": [
    "eos = word2idx(model, \"</s>\")"
   ]
  },
  {
   "cell_type": "code",
   "execution_count": 123,
   "metadata": {},
   "outputs": [
    {
     "name": "stderr",
     "output_type": "stream",
     "text": [
      "C:\\Users\\blackbak\\Anaconda3\\envs\\pytorch\\lib\\site-packages\\torch\\nn\\functional.py:1594: UserWarning: Using a target size (torch.Size([1])) that is different to the input size (torch.Size([1, 1])) is deprecated. Please ensure they have the same size.\n",
      "  \"Please ensure they have the same size.\".format(target.size(), input.size()))\n"
     ]
    },
    {
     "name": "stdout",
     "output_type": "stream",
     "text": [
      "Loss at iteration 0: 2.2131776809692383\n",
      "Gen loss at iteration 0: 0.6085559725761414\n",
      "Dis loss at iteration 0: 1.6046216487884521\n",
      "Loss at iteration 50: 116.04034161567688\n",
      "Gen loss at iteration 50: 32.40890821814537\n",
      "Dis loss at iteration 50: 83.63143384456635\n",
      "Loss at iteration 100: 119.10078716278076\n",
      "Gen loss at iteration 100: 27.055317983031273\n",
      "Dis loss at iteration 100: 92.04546892642975\n",
      "Loss at iteration 150: 110.03502631187439\n",
      "Gen loss at iteration 150: 26.09239250421524\n",
      "Dis loss at iteration 150: 83.94263398647308\n",
      "Loss at iteration 200: 104.02681541442871\n",
      "Gen loss at iteration 200: 28.845501095056534\n",
      "Dis loss at iteration 200: 75.18131446838379\n",
      "Loss at iteration 250: 105.31702625751495\n",
      "Gen loss at iteration 250: 31.84134203195572\n",
      "Dis loss at iteration 250: 73.47568428516388\n",
      "Loss at iteration 300: 109.70364141464233\n",
      "Gen loss at iteration 300: 30.129953265190125\n",
      "Dis loss at iteration 300: 79.57368850708008\n",
      "Loss at iteration 350: 106.23191118240356\n",
      "Gen loss at iteration 350: 32.99670070409775\n",
      "Dis loss at iteration 350: 73.23520994186401\n",
      "Loss at iteration 400: 108.25822854042053\n",
      "Gen loss at iteration 400: 33.667957961559296\n",
      "Dis loss at iteration 400: 74.59027123451233\n",
      "Loss at iteration 450: 108.38096618652344\n",
      "Gen loss at iteration 450: 32.7584034204483\n",
      "Dis loss at iteration 450: 75.62256264686584\n",
      "Loss at iteration 500: 106.49120950698853\n",
      "Gen loss at iteration 500: 33.1880641579628\n",
      "Dis loss at iteration 500: 73.30314517021179\n",
      "Loss at iteration 550: 106.73617839813232\n",
      "Gen loss at iteration 550: 33.7307111620903\n",
      "Dis loss at iteration 550: 73.00546681880951\n",
      "Loss at iteration 600: 106.49062609672546\n",
      "Gen loss at iteration 600: 33.794229567050934\n",
      "Dis loss at iteration 600: 72.69639670848846\n",
      "Loss at iteration 650: 106.5387966632843\n",
      "Gen loss at iteration 650: 34.23271816968918\n",
      "Dis loss at iteration 650: 72.30607795715332\n",
      "Loss at iteration 700: 107.50233268737793\n",
      "Gen loss at iteration 700: 33.73145341873169\n",
      "Dis loss at iteration 700: 73.77087914943695\n",
      "Loss at iteration 750: 106.54706168174744\n",
      "Gen loss at iteration 750: 33.61912566423416\n",
      "Dis loss at iteration 750: 72.92793667316437\n",
      "Loss at iteration 800: 106.68386960029602\n",
      "Gen loss at iteration 800: 34.27635020017624\n",
      "Dis loss at iteration 800: 72.40751934051514\n",
      "Loss at iteration 850: 106.39356970787048\n",
      "Gen loss at iteration 850: 34.255467653274536\n",
      "Dis loss at iteration 850: 72.1381026506424\n",
      "Loss at iteration 900: 106.10287523269653\n",
      "Gen loss at iteration 900: 34.10224449634552\n",
      "Dis loss at iteration 900: 72.00063037872314\n",
      "Loss at iteration 950: 106.5872757434845\n",
      "Gen loss at iteration 950: 33.752309024333954\n",
      "Dis loss at iteration 950: 72.83496701717377\n",
      "Loss at iteration 1000: 106.71156692504883\n",
      "Gen loss at iteration 1000: 34.50115120410919\n",
      "Dis loss at iteration 1000: 72.21041548252106\n",
      "Loss at iteration 1050: 105.95571875572205\n",
      "Gen loss at iteration 1050: 33.9216143488884\n",
      "Dis loss at iteration 1050: 72.03410410881042\n",
      "Loss at iteration 1100: 106.38844752311707\n",
      "Gen loss at iteration 1100: 34.34158259630203\n",
      "Dis loss at iteration 1100: 72.04686439037323\n",
      "Loss at iteration 1150: 105.78370308876038\n",
      "Gen loss at iteration 1150: 34.283587634563446\n",
      "Dis loss at iteration 1150: 71.500115275383\n",
      "Loss at iteration 1200: 107.64612889289856\n",
      "Gen loss at iteration 1200: 34.069029808044434\n",
      "Dis loss at iteration 1200: 73.57709884643555\n",
      "Loss at iteration 1250: 107.13726735115051\n",
      "Gen loss at iteration 1250: 34.3941575884819\n",
      "Dis loss at iteration 1250: 72.74311006069183\n",
      "Loss at iteration 1300: 105.54029941558838\n",
      "Gen loss at iteration 1300: 34.38294714689255\n",
      "Dis loss at iteration 1300: 71.15735232830048\n",
      "Loss at iteration 1350: 105.99176287651062\n",
      "Gen loss at iteration 1350: 34.21315050125122\n",
      "Dis loss at iteration 1350: 71.77861249446869\n",
      "Loss at iteration 1400: 105.68734431266785\n",
      "Gen loss at iteration 1400: 34.113814890384674\n",
      "Dis loss at iteration 1400: 71.5735285282135\n",
      "Loss at iteration 1450: 105.20097851753235\n",
      "Gen loss at iteration 1450: 34.471618354320526\n",
      "Dis loss at iteration 1450: 70.72936081886292\n",
      "Loss at iteration 1500: 105.9259238243103\n",
      "Gen loss at iteration 1500: 34.20559310913086\n",
      "Dis loss at iteration 1500: 71.720330119133\n",
      "Loss at iteration 1550: 106.09496092796326\n",
      "Gen loss at iteration 1550: 34.66152459383011\n",
      "Dis loss at iteration 1550: 71.43343734741211\n",
      "Loss at iteration 1600: 105.40433859825134\n",
      "Gen loss at iteration 1600: 34.294478595256805\n",
      "Dis loss at iteration 1600: 71.10986053943634\n",
      "Loss at iteration 1650: 105.69338417053223\n",
      "Gen loss at iteration 1650: 34.734623193740845\n",
      "Dis loss at iteration 1650: 70.95876181125641\n",
      "Loss at iteration 1700: 106.5305278301239\n",
      "Gen loss at iteration 1700: 34.55758225917816\n",
      "Dis loss at iteration 1700: 71.97294652462006\n",
      "Loss at iteration 1750: 106.74875545501709\n",
      "Gen loss at iteration 1750: 34.40909081697464\n",
      "Dis loss at iteration 1750: 72.3396645784378\n",
      "Loss at iteration 1800: 105.62547469139099\n",
      "Gen loss at iteration 1800: 34.74511820077896\n",
      "Dis loss at iteration 1800: 70.88035643100739\n",
      "Loss at iteration 1850: 104.68629264831543\n",
      "Gen loss at iteration 1850: 35.39139252901077\n",
      "Dis loss at iteration 1850: 69.29490053653717\n",
      "Loss at iteration 1900: 106.3754289150238\n",
      "Gen loss at iteration 1900: 37.79387181997299\n",
      "Dis loss at iteration 1900: 68.58155763149261\n",
      "Loss at iteration 1950: 106.3108286857605\n",
      "Gen loss at iteration 1950: 44.40530699491501\n",
      "Dis loss at iteration 1950: 61.905521392822266\n",
      "Loss at iteration 2000: 125.05181038379669\n",
      "Gen loss at iteration 2000: 69.78735208511353\n",
      "Dis loss at iteration 2000: 55.26445770263672\n",
      "Loss at iteration 2050: 146.89526319503784\n",
      "Gen loss at iteration 2050: 114.00265356898308\n",
      "Dis loss at iteration 2050: 32.892609395086765\n",
      "Loss at iteration 2100: 195.6808533668518\n",
      "Gen loss at iteration 2100: 172.23729813098907\n",
      "Dis loss at iteration 2100: 23.443555546924472\n",
      "Loss at iteration 2150: 197.20969009399414\n",
      "Gen loss at iteration 2150: 177.7486047744751\n",
      "Dis loss at iteration 2150: 19.461085684597492\n",
      "Loss at iteration 2200: 205.27172994613647\n",
      "Gen loss at iteration 2200: 190.28255128860474\n",
      "Dis loss at iteration 2200: 14.989179130643606\n",
      "Loss at iteration 2250: 236.2233166694641\n",
      "Gen loss at iteration 2250: 218.87846159934998\n",
      "Dis loss at iteration 2250: 17.344853796064854\n",
      "Loss at iteration 2300: 208.0042781829834\n",
      "Gen loss at iteration 2300: 189.9968044757843\n",
      "Dis loss at iteration 2300: 18.00747392140329\n",
      "Loss at iteration 2350: 228.96545934677124\n",
      "Gen loss at iteration 2350: 214.54464292526245\n",
      "Dis loss at iteration 2350: 14.420816670171916\n",
      "Loss at iteration 2400: 284.1058101654053\n",
      "Gen loss at iteration 2400: 273.4919265508652\n",
      "Dis loss at iteration 2400: 10.613885310245678\n",
      "Loss at iteration 2450: 305.6187734603882\n",
      "Gen loss at iteration 2450: 301.95880031585693\n",
      "Dis loss at iteration 2450: 3.659972845707671\n",
      "Loss at iteration 2500: 275.1577649116516\n",
      "Gen loss at iteration 2500: 263.231454372406\n",
      "Dis loss at iteration 2500: 11.926310915499926\n",
      "Loss at iteration 2550: 258.3509089946747\n",
      "Gen loss at iteration 2550: 250.1243988275528\n",
      "Dis loss at iteration 2550: 8.22650918038562\n",
      "Loss at iteration 2600: 276.9452373981476\n",
      "Gen loss at iteration 2600: 269.4716944694519\n",
      "Dis loss at iteration 2600: 7.473542214545887\n",
      "Loss at iteration 2650: 369.9690878391266\n",
      "Gen loss at iteration 2650: 365.0784521102905\n",
      "Dis loss at iteration 2650: 4.890636276635632\n",
      "Loss at iteration 2700: 324.2554566860199\n",
      "Gen loss at iteration 2700: 315.0405613183975\n",
      "Dis loss at iteration 2700: 9.214894718606956\n",
      "Loss at iteration 2750: 293.042179107666\n",
      "Gen loss at iteration 2750: 280.359854221344\n",
      "Dis loss at iteration 2750: 12.682325382949784\n",
      "Loss at iteration 2800: 296.89989495277405\n",
      "Gen loss at iteration 2800: 291.8850837945938\n",
      "Dis loss at iteration 2800: 5.014810894615948\n",
      "Loss at iteration 2850: 245.2297077178955\n",
      "Gen loss at iteration 2850: 237.1205325126648\n",
      "Dis loss at iteration 2850: 8.109176069498062\n",
      "Loss at iteration 2900: 255.25351905822754\n",
      "Gen loss at iteration 2900: 247.81023287773132\n",
      "Dis loss at iteration 2900: 7.443287146743387\n",
      "Loss at iteration 2950: 246.48919653892517\n",
      "Gen loss at iteration 2950: 241.1810474395752\n",
      "Dis loss at iteration 2950: 5.308148834854364\n",
      "Loss at iteration 3000: 233.87130045890808\n",
      "Gen loss at iteration 3000: 229.37363386154175\n",
      "Dis loss at iteration 3000: 4.497667590621859\n",
      "Loss at iteration 3050: 233.67652559280396\n",
      "Gen loss at iteration 3050: 228.27939987182617\n",
      "Dis loss at iteration 3050: 5.397126799449325\n",
      "Loss at iteration 3100: 274.7837722301483\n",
      "Gen loss at iteration 3100: 268.0024652481079\n",
      "Dis loss at iteration 3100: 6.7813089387491345\n",
      "Loss at iteration 3150: 298.67547273635864\n",
      "Gen loss at iteration 3150: 293.21725845336914\n",
      "Dis loss at iteration 3150: 5.458214878104627\n",
      "Loss at iteration 3200: 270.60678005218506\n",
      "Gen loss at iteration 3200: 266.2257649898529\n",
      "Dis loss at iteration 3200: 4.381016322411597\n",
      "Loss at iteration 3250: 301.1072154045105\n",
      "Gen loss at iteration 3250: 297.15013575553894\n",
      "Dis loss at iteration 3250: 3.9570795740000904\n",
      "Loss at iteration 3300: 251.08886885643005\n",
      "Gen loss at iteration 3300: 248.8943386077881\n",
      "Dis loss at iteration 3300: 2.1945313327014446\n"
     ]
    },
    {
     "ename": "KeyboardInterrupt",
     "evalue": "",
     "output_type": "error",
     "traceback": [
      "\u001b[1;31m---------------------------------------------------------------------------\u001b[0m",
      "\u001b[1;31mKeyboardInterrupt\u001b[0m                         Traceback (most recent call last)",
      "\u001b[1;32m<ipython-input-123-0c15c0d289a2>\u001b[0m in \u001b[0;36m<module>\u001b[1;34m()\u001b[0m\n\u001b[0;32m      1\u001b[0m train_iter(generator=generator, discriminator=discriminator, \n\u001b[1;32m----> 2\u001b[1;33m            dataset=questions_idx, embedding=embedding, eos=eos, epochs=1, lr=0.001)\n\u001b[0m",
      "\u001b[1;32m<ipython-input-122-23828c7bca94>\u001b[0m in \u001b[0;36mtrain_iter\u001b[1;34m(generator, discriminator, dataset, embedding, eos, epochs, lr)\u001b[0m\n\u001b[0;32m     13\u001b[0m             current_loss, curr_gen_loss, curr_dis_loss = train(generator=generator, discriminator=discriminator, input_sequence=embeds, \n\u001b[0;32m     14\u001b[0m                                  \u001b[0membedding\u001b[0m\u001b[1;33m=\u001b[0m\u001b[0membedding\u001b[0m\u001b[1;33m,\u001b[0m \u001b[0mgenerator_optimizer\u001b[0m\u001b[1;33m=\u001b[0m\u001b[0mgenerator_optimizer\u001b[0m\u001b[1;33m,\u001b[0m\u001b[1;33m\u001b[0m\u001b[0m\n\u001b[1;32m---> 15\u001b[1;33m                                  discriminator_optimizer=discriminator_optimizer, criterion=criterion, eos=eos)\n\u001b[0m\u001b[0;32m     16\u001b[0m             \u001b[0mloss\u001b[0m \u001b[1;33m+=\u001b[0m \u001b[0mcurrent_loss\u001b[0m\u001b[1;33m\u001b[0m\u001b[0m\n\u001b[0;32m     17\u001b[0m             \u001b[0mgen_loss\u001b[0m \u001b[1;33m+=\u001b[0m \u001b[0mcurr_gen_loss\u001b[0m\u001b[1;33m\u001b[0m\u001b[0m\n",
      "\u001b[1;32m<ipython-input-111-6222516a4319>\u001b[0m in \u001b[0;36mtrain\u001b[1;34m(generator, discriminator, input_sequence, embedding, generator_optimizer, discriminator_optimizer, criterion, eos)\u001b[0m\n\u001b[0;32m     20\u001b[0m         \u001b[0midx\u001b[0m \u001b[1;33m=\u001b[0m \u001b[0mmost_similar\u001b[0m\u001b[1;33m(\u001b[0m\u001b[0membedding\u001b[0m\u001b[1;33m,\u001b[0m \u001b[0mo_gen\u001b[0m\u001b[1;33m)\u001b[0m\u001b[1;33m\u001b[0m\u001b[0m\n\u001b[0;32m     21\u001b[0m         \u001b[0mgenerated_idx\u001b[0m\u001b[1;33m.\u001b[0m\u001b[0mappend\u001b[0m\u001b[1;33m(\u001b[0m\u001b[0midx\u001b[0m\u001b[1;33m)\u001b[0m\u001b[1;33m\u001b[0m\u001b[0m\n\u001b[1;32m---> 22\u001b[1;33m         \u001b[1;32mif\u001b[0m \u001b[0midx\u001b[0m\u001b[1;33m==\u001b[0m\u001b[0meos\u001b[0m\u001b[1;33m:\u001b[0m\u001b[1;33m\u001b[0m\u001b[0m\n\u001b[0m\u001b[0;32m     23\u001b[0m             \u001b[1;32mbreak\u001b[0m\u001b[1;33m\u001b[0m\u001b[0m\n\u001b[0;32m     24\u001b[0m     \u001b[0mgenerated_sequence\u001b[0m \u001b[1;33m=\u001b[0m \u001b[0mtorch\u001b[0m\u001b[1;33m.\u001b[0m\u001b[0mcat\u001b[0m\u001b[1;33m(\u001b[0m\u001b[0mgenerated_sequence\u001b[0m\u001b[1;33m)\u001b[0m\u001b[1;33m.\u001b[0m\u001b[0mview\u001b[0m\u001b[1;33m(\u001b[0m\u001b[1;36m1\u001b[0m\u001b[1;33m,\u001b[0m \u001b[1;33m-\u001b[0m\u001b[1;36m1\u001b[0m\u001b[1;33m,\u001b[0m \u001b[0membedding\u001b[0m\u001b[1;33m.\u001b[0m\u001b[0mweight\u001b[0m\u001b[1;33m.\u001b[0m\u001b[0mshape\u001b[0m\u001b[1;33m[\u001b[0m\u001b[1;36m1\u001b[0m\u001b[1;33m]\u001b[0m\u001b[1;33m)\u001b[0m\u001b[1;33m\u001b[0m\u001b[0m\n",
      "\u001b[1;31mKeyboardInterrupt\u001b[0m: "
     ]
    }
   ],
   "source": [
    "train_iter(generator=generator, discriminator=discriminator, \n",
    "           dataset=questions_idx, embedding=embedding, eos=eos, epochs=1, lr=0.001)"
   ]
  },
  {
   "cell_type": "code",
   "execution_count": 124,
   "metadata": {},
   "outputs": [],
   "source": [
    "def generate_question(generator, embedding, model):\n",
    "    generated_sequence = []\n",
    "    generated_idx = []\n",
    "    generated_words = []\n",
    "    noise = torch.randn(generator.noise_dim).to(device)\n",
    "    o_gen = torch.zeros(embedding.weight.shape[1], device=device).view(1,1,-1)\n",
    "    h_gen = generator.init_hidden(noise)\n",
    "    for i in range(20):\n",
    "        o_gen, h_gen = generator.forward(o_gen, h_gen)\n",
    "        generated_sequence.append(o_gen)\n",
    "        idx = most_similar(embedding, o_gen)\n",
    "        generated_idx.append(idx)\n",
    "        generated_words.append(idx2word(model, idx))\n",
    "        if idx==eos:\n",
    "            break\n",
    "    return generated_words, generated_idx"
   ]
  },
  {
   "cell_type": "code",
   "execution_count": 125,
   "metadata": {},
   "outputs": [],
   "source": [
    "q, idx = generate_question(generator, embedding, model)"
   ]
  },
  {
   "cell_type": "code",
   "execution_count": 126,
   "metadata": {},
   "outputs": [
    {
     "data": {
      "text/plain": [
       "['of',\n",
       " 'user_click',\n",
       " 'invisible_item_flow',\n",
       " 'delete_inappropriate_comments',\n",
       " 'Dow_Jones_Reprints',\n",
       " 'of',\n",
       " 'of',\n",
       " 'www.iotogo.com_HPWAinfo',\n",
       " 'Reuters.com_video_mobile',\n",
       " 'invisible_item_flow',\n",
       " 'invisible_item_flow',\n",
       " 'invisible_item_flow',\n",
       " 'Full_versions',\n",
       " 'Associated_Press_GfK_Poll',\n",
       " 'Zacks_Rank',\n",
       " 'of',\n",
       " 'of',\n",
       " 'downtick_trades_---',\n",
       " 'TradingMarkets_Weekly_Newsletter_covers',\n",
       " 'to']"
      ]
     },
     "execution_count": 126,
     "metadata": {},
     "output_type": "execute_result"
    }
   ],
   "source": [
    "q"
   ]
  },
  {
   "cell_type": "code",
   "execution_count": 44,
   "metadata": {},
   "outputs": [
    {
     "data": {
      "text/plain": [
       "torch.Size([3018011])"
      ]
     },
     "execution_count": 44,
     "metadata": {},
     "output_type": "execute_result"
    }
   ],
   "source": [
    "similarity.shape"
   ]
  },
  {
   "cell_type": "code",
   "execution_count": 45,
   "metadata": {},
   "outputs": [],
   "source": [
    "value, idx = torch.max(similarity, 0)"
   ]
  },
  {
   "cell_type": "code",
   "execution_count": 46,
   "metadata": {},
   "outputs": [
    {
     "data": {
      "text/plain": [
       "tensor(12, device='cuda:0')"
      ]
     },
     "execution_count": 46,
     "metadata": {},
     "output_type": "execute_result"
    }
   ],
   "source": [
    "idx"
   ]
  },
  {
   "cell_type": "code",
   "execution_count": null,
   "metadata": {},
   "outputs": [],
   "source": []
  }
 ],
 "metadata": {
  "kernelspec": {
   "display_name": "PyTorch",
   "language": "python",
   "name": "pytorch"
  },
  "language_info": {
   "codemirror_mode": {
    "name": "ipython",
    "version": 3
   },
   "file_extension": ".py",
   "mimetype": "text/x-python",
   "name": "python",
   "nbconvert_exporter": "python",
   "pygments_lexer": "ipython3",
   "version": "3.7.0"
  }
 },
 "nbformat": 4,
 "nbformat_minor": 2
}
