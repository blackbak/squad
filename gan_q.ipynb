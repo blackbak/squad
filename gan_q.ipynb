{
 "cells": [
  {
   "cell_type": "code",
   "execution_count": 1,
   "metadata": {},
   "outputs": [
    {
     "name": "stderr",
     "output_type": "stream",
     "text": [
      "C:\\Users\\blackbak\\Anaconda3\\envs\\pytorch\\lib\\site-packages\\gensim\\utils.py:1197: UserWarning: detected Windows; aliasing chunkize to chunkize_serial\n",
      "  warnings.warn(\"detected Windows; aliasing chunkize to chunkize_serial\")\n"
     ]
    }
   ],
   "source": [
    "import numpy as np\n",
    "import json\n",
    "import gensim\n",
    "from text_prep import *\n",
    "import torch\n",
    "import torch.nn as nn\n",
    "from torch.nn.utils.rnn import pack_sequence, pad_sequence, pad_packed_sequence, pack_padded_sequence\n",
    "import matplotlib.pyplot as plt\n",
    "from torch import optim"
   ]
  },
  {
   "cell_type": "code",
   "execution_count": 2,
   "metadata": {},
   "outputs": [],
   "source": [
    "with open(\"C:/Users/blackbak/Documents/github/data/squad_data/train-v2.0.json\") as f:\n",
    "    data = json.load(f)"
   ]
  },
  {
   "cell_type": "code",
   "execution_count": 3,
   "metadata": {},
   "outputs": [],
   "source": [
    "#m =0\n",
    "questions = []\n",
    "for i in range(len(data[\"data\"])):\n",
    "    for j in range(len(data[\"data\"][i][\"paragraphs\"])):\n",
    "        for k in range(len(data[\"data\"][i][\"paragraphs\"][j][\"qas\"])):\n",
    "            questions.append(data[\"data\"][i][\"paragraphs\"][j][\"qas\"][k][\"question\"]+\" </s>\")"
   ]
  },
  {
   "cell_type": "code",
   "execution_count": 4,
   "metadata": {},
   "outputs": [
    {
     "data": {
      "text/plain": [
       "'When did Beyonce start becoming popular? </s>'"
      ]
     },
     "execution_count": 4,
     "metadata": {},
     "output_type": "execute_result"
    }
   ],
   "source": [
    "questions[0]"
   ]
  },
  {
   "cell_type": "code",
   "execution_count": 5,
   "metadata": {},
   "outputs": [],
   "source": [
    "sentence_list = questions\n",
    "sentence_list = [unicodeToAscii(sentence) for sentence in sentence_list]\n",
    "tokenized_list = [sentence.lower().split() for sentence in sentence_list]"
   ]
  },
  {
   "cell_type": "code",
   "execution_count": 6,
   "metadata": {},
   "outputs": [
    {
     "data": {
      "text/plain": [
       "(4652998, 7020590)"
      ]
     },
     "execution_count": 6,
     "metadata": {},
     "output_type": "execute_result"
    }
   ],
   "source": [
    "model_new = Word2Vec(size=100, min_count = 1)\n",
    "model_new.build_vocab(tokenized_list)\n",
    "total_examples = model_new.corpus_count\n",
    "model_new.train(tokenized_list, total_examples=total_examples, epochs=model_new.epochs)"
   ]
  },
  {
   "cell_type": "code",
   "execution_count": 7,
   "metadata": {},
   "outputs": [],
   "source": [
    "model = model_new"
   ]
  },
  {
   "cell_type": "code",
   "execution_count": 8,
   "metadata": {},
   "outputs": [],
   "source": [
    "model = build_local_w2v(questions)"
   ]
  },
  {
   "cell_type": "code",
   "execution_count": 9,
   "metadata": {},
   "outputs": [],
   "source": [
    "questions_idx = [sentence2idx(model, sentence) for sentence in questions]"
   ]
  },
  {
   "cell_type": "code",
   "execution_count": 10,
   "metadata": {},
   "outputs": [],
   "source": [
    "use_cuda = torch.cuda.is_available()\n",
    "device = torch.device(\"cuda:0\" if use_cuda else \"cpu:0\")\n",
    "torch.backends.cudnn.benchmark = True"
   ]
  },
  {
   "cell_type": "code",
   "execution_count": 11,
   "metadata": {},
   "outputs": [
    {
     "data": {
      "text/plain": [
       "[14, 8, 270, 143, 1478, 229, 0]"
      ]
     },
     "execution_count": 11,
     "metadata": {},
     "output_type": "execute_result"
    }
   ],
   "source": [
    "questions_idx[0]"
   ]
  },
  {
   "cell_type": "code",
   "execution_count": 12,
   "metadata": {},
   "outputs": [],
   "source": [
    "embedding = gensim2embedding(model, device)"
   ]
  },
  {
   "cell_type": "code",
   "execution_count": 41,
   "metadata": {},
   "outputs": [],
   "source": [
    "class Discriminator(nn.Module):\n",
    "    def __init__(self, embed_dimension, hidden_size, num_layers):\n",
    "        super(Discriminator, self).__init__()\n",
    "        self.embed_dimension = embed_dimension\n",
    "        self.hidden_size = hidden_size\n",
    "        self.num_layers = num_layers\n",
    "        self.rnn = nn.GRU(input_size=embed_dimension, hidden_size=hidden_size, num_layers=num_layers, batch_first=True, bidirectional=True)\n",
    "        self.fc1 = nn.Linear(2*hidden_size, 300) # since we want bidirectional\n",
    "        self.fc2 = nn.Linear(300, 1)\n",
    "        self.activation_fc1 = nn.SELU()\n",
    "        self.activation_fc2 = nn.Sigmoid()\n",
    "        \n",
    "    def forward(self, padded_input, input_lengths, batch_size):\n",
    "        #total_length = padded_input.size(1) #padded_input must be ordered by size\n",
    "        packed_input = pack_padded_sequence(padded_input, input_lengths, batch_first=True)\n",
    "        packed_output, last_hidden = self.rnn(packed_input)\n",
    "        last_hidden = last_hidden.permute(1, 0, 2)\n",
    "        last_hidden = last_hidden[:, -2:, :].reshape([batch_size,-1])\n",
    "        #gru_output, sequence_length = pad_packed_sequence(packed_output, batch_first=True, total_length = total_length)\n",
    "        fc1 = self.activation_fc1(self.fc1(last_hidden))\n",
    "        discriminator_output = self.activation_fc2(self.fc2(fc1))\n",
    "        return discriminator_output"
   ]
  },
  {
   "cell_type": "code",
   "execution_count": 13,
   "metadata": {},
   "outputs": [],
   "source": [
    "class Discriminator(nn.Module):\n",
    "    def __init__(self, embed_dimension, hidden_size, num_layers):\n",
    "        super(Discriminator, self).__init__()\n",
    "        self.embed_dimension = embed_dimension\n",
    "        self.hidden_size = hidden_size\n",
    "        self.num_layers = num_layers\n",
    "        self.rnn = nn.GRU(input_size=embed_dimension, hidden_size=hidden_size, num_layers=num_layers, batch_first=True, bidirectional=True)\n",
    "        self.fc1 = nn.Linear(2*hidden_size, 300) # since we want bidirectional\n",
    "        self.fc2 = nn.Linear(300, 1)\n",
    "        self.activation_fc1 = nn.SELU()\n",
    "        self.activation_fc2 = nn.Sigmoid()\n",
    "        \n",
    "    def forward(self, padded_input, input_lengths, batch_size):\n",
    "        total_length = padded_input.shape[1] #padded_input must be ordered by size\n",
    "        packed_input = pack_padded_sequence(padded_input, input_lengths, batch_first=True)\n",
    "        packed_output, last_hidden = self.rnn(packed_input)\n",
    "        gru_output, sequence_length = pad_packed_sequence(packed_output, total_length = total_length)\n",
    "        last_output = gru_output[total_length-1, :, :]\n",
    "        fc1 = self.activation_fc1(self.fc1(last_output))\n",
    "        discriminator_output = self.activation_fc2(self.fc2(fc1))\n",
    "        return discriminator_output"
   ]
  },
  {
   "cell_type": "code",
   "execution_count": 70,
   "metadata": {},
   "outputs": [],
   "source": [
    "class Generator(nn.Module):\n",
    "    def __init__(self, noise_dim, embed_dimension, num_layers, embedding, eos, sos):\n",
    "        super(Generator, self).__init__()\n",
    "        self.eos_token = eos\n",
    "        self.sos_token = sos\n",
    "        self.noise_dim = noise_dim\n",
    "        self.embed_dimension = embed_dimension\n",
    "        self.hidden_size = embed_dimension\n",
    "        self.num_layers = num_layers\n",
    "        self.embedding = embedding\n",
    "        self.noise2hidden = nn.Linear(noise_dim, num_layers*embed_dimension)\n",
    "        self.tanh = nn.Tanh()\n",
    "        self.rnn = nn.GRU(input_size=embed_dimension, hidden_size=embed_dimension, num_layers=num_layers, batch_first=True)\n",
    "    \n",
    "    def most_similar(self, emb_input):\n",
    "        cos = nn.CosineSimilarity(dim=1)\n",
    "        similarity = cos(self.embedding.weight, emb_input.squeeze())\n",
    "        #similarity = torch.mv(self.embedding.weight, emb_input.squeeze())\n",
    "        value, idx = torch.max(similarity, 0)\n",
    "        return idx\n",
    "    \n",
    "    def forward(self, device):\n",
    "        noise = torch.randn(self.noise_dim).view(1,1,-1).to(device)\n",
    "        h0 = self.tanh(self.noise2hidden(noise)).view([self.num_layers, 1, self.embed_dimension])\n",
    "        #List that holds all the output (words/embeddings)\n",
    "        output = []\n",
    "        word_output = []\n",
    "        #First output with input the sos token\n",
    "        o, h = self.rnn(self.sos_token.view(1,1,-1), h0)\n",
    "        idx = self.most_similar(o)\n",
    "        output.append(o)\n",
    "        word_output.append(idx)\n",
    "        #We want to iterate for output some and then produce an eos token. Maximum length of\n",
    "        #the output we set it to 20 words or if we produce an eos token before that \n",
    "        for i in range(20):\n",
    "            o, h = self.rnn(o, h)\n",
    "            #might need to squeeze the output\n",
    "            #dot product to calculate similarity\n",
    "            #similarity = torch.mv(self.embedding, o)\n",
    "            idx = self.most_similar(o)\n",
    "            output.append(o)\n",
    "            word_output.append(idx)\n",
    "            if idx==self.eos_token:\n",
    "                break\n",
    "        #here we have the option to append the eos token or not\n",
    "        return torch.cat(output), word_output\n"
   ]
  },
  {
   "cell_type": "code",
   "execution_count": 11,
   "metadata": {},
   "outputs": [],
   "source": [
    "class Generator(nn.Module):\n",
    "    def __init__(self, noise_dim, embed_dimension, num_layers):\n",
    "        super(Generator, self).__init__()\n",
    "        self.noise_dim = noise_dim\n",
    "        self.embed_dimension = embed_dimension\n",
    "        self.hidden_size = embed_dimension\n",
    "        self.num_layers = num_layers\n",
    "        self.noise2hidden = nn.Linear(noise_dim, num_layers*embed_dimension)\n",
    "        self.tanh = nn.Tanh()\n",
    "        self.rnn = nn.GRU(input_size=embed_dimension, hidden_size=embed_dimension, num_layers=num_layers, batch_first=True)\n",
    "\n",
    "    def forward(self, o, noise=None, h=None):\n",
    "        if h is None:\n",
    "            h0 = self.tanh(self.noise2hidden(noise)).view([self.num_layers, 1, self.embed_dimension])\n",
    "            o, h = self.rnn(o, h0) #here is self.sos_token.view(1,1,-1)\n",
    "        else:\n",
    "            o, h = self.rnn(o, h)\n",
    "        return o, h\n"
   ]
  },
  {
   "cell_type": "code",
   "execution_count": 14,
   "metadata": {},
   "outputs": [],
   "source": [
    "class Generator(nn.Module):\n",
    "    def __init__(self, noise_dim, embed_dimension, num_layers):\n",
    "        super(Generator, self).__init__()\n",
    "        self.noise_dim = noise_dim\n",
    "        self.embed_dimension = embed_dimension\n",
    "        self.hidden_size = embed_dimension\n",
    "        self.num_layers = num_layers\n",
    "        self.noise2hidden = nn.Linear(noise_dim, num_layers*embed_dimension)\n",
    "        self.tanh = nn.Tanh()\n",
    "        #batch first does not work on autoregressive rnn\n",
    "        self.rnn = nn.GRU(input_size=embed_dimension, hidden_size=embed_dimension, num_layers=num_layers)\n",
    "\n",
    "    def forward(self, o, h):\n",
    "        o, h = self.rnn(o, h)\n",
    "        return o, h\n",
    "    \n",
    "    def init_hidden(self, noise):\n",
    "        return self.tanh(self.noise2hidden(noise)).view([self.num_layers, 1, self.embed_dimension])\n",
    "####try removing this init hidden\n",
    "####try removing the connection and put only random noise\n",
    "####try zero init hidden and put the noise in the input somehow"
   ]
  },
  {
   "cell_type": "code",
   "execution_count": 15,
   "metadata": {},
   "outputs": [],
   "source": [
    "def most_similar(embedding, emb_input):\n",
    "    #cos = nn.CosineSimilarity(dim=1)\n",
    "    #similarity = cos(embedding.weight, emb_input.view(1, -1))\n",
    "    similarity = torch.mv(embedding.weight, emb_input.squeeze())\n",
    "    value, idx = torch.max(similarity, 0)\n",
    "    return idx"
   ]
  },
  {
   "cell_type": "code",
   "execution_count": 16,
   "metadata": {},
   "outputs": [],
   "source": [
    "def train(generator, discriminator, input_sequence, embedding, generator_optimizer, discriminator_optimizer, criterion, eos):\n",
    "    #input sequence of shape [1,seq_len,300]\n",
    "    ###Discriminator training\n",
    "    #train with real data\n",
    "    discriminator_optimizer.zero_grad()\n",
    "    real_output = discriminator.forward(padded_input=input_sequence.to(device), input_lengths=torch.tensor([input_sequence.shape[1]], device=device), batch_size=1)\n",
    "    real_label = torch.ones(1, device=device)\n",
    "    real_error = criterion(real_output, real_label)\n",
    "    real_error.backward()\n",
    "    #train with fake\n",
    "    #generate sequence\n",
    "    generated_sequence = []\n",
    "    generated_idx = []\n",
    "    noise = torch.randn(generator.noise_dim).to(device)\n",
    "    o_gen = torch.zeros(embedding.weight.shape[1], device=device).view(1,1,-1)\n",
    "    h_gen = generator.init_hidden(noise)\n",
    "    for i in range(20):\n",
    "        o_gen, h_gen = generator.forward(o_gen, h_gen)\n",
    "        generated_sequence.append(o_gen)\n",
    "        idx = most_similar(embedding, o_gen)\n",
    "        generated_idx.append(idx)\n",
    "        if idx==eos:\n",
    "            break\n",
    "    generated_sequence = torch.cat(generated_sequence).view(1, -1, embedding.weight.shape[1])\n",
    "    fake_output = discriminator.forward(padded_input=generated_sequence.detach(), input_lengths=torch.tensor([generated_sequence.shape[1]], device=device), batch_size=1)\n",
    "    fake_label = torch.zeros(1, device=device)\n",
    "    fake_error = criterion(fake_output, fake_label)\n",
    "    fake_error.backward()\n",
    "    discriminator_error = real_error + fake_error\n",
    "    discriminator_optimizer.step()\n",
    "    ###Generator training\n",
    "    generator_optimizer.zero_grad()\n",
    "    fake_output_gen = discriminator.forward(padded_input=generated_sequence, input_lengths=torch.tensor([generated_sequence.shape[1]], device=device), batch_size=1)\n",
    "    fake_labels_gen = torch.ones(1, device=device)\n",
    "    generator_error = criterion(fake_output_gen, fake_labels_gen)\n",
    "    generator_error.backward()\n",
    "    generator_optimizer.step()\n",
    "    loss = discriminator_error + generator_error\n",
    "    return loss.item(), generator_error.item(), discriminator_error.item()"
   ]
  },
  {
   "cell_type": "code",
   "execution_count": 17,
   "metadata": {},
   "outputs": [],
   "source": [
    "def train_iter(generator, discriminator, dataset, embedding, eos, epochs, lr_g=0.001, lr_d=0.00001):\n",
    "    #we have to append <\\s> to each question at the end\n",
    "    total_loss = []\n",
    "    generator_optimizer = optim.Adam(generator.parameters(), lr=lr_g)\n",
    "    discriminator_optimizer = optim.Adam(discriminator.parameters(), lr=lr_d)\n",
    "    criterion = nn.BCELoss()\n",
    "    for e in range(epochs):\n",
    "        loss = 0\n",
    "        gen_loss = 0\n",
    "        dis_loss = 0\n",
    "        for i, data in enumerate(dataset):\n",
    "            embeds = embedding(torch.tensor(data+[eos], device=device)).view(1, -1, embedding.weight.shape[1])\n",
    "            current_loss, curr_gen_loss, curr_dis_loss = train(generator=generator, discriminator=discriminator, input_sequence=embeds, \n",
    "                                 embedding=embedding, generator_optimizer=generator_optimizer,\n",
    "                                 discriminator_optimizer=discriminator_optimizer, criterion=criterion, eos=eos)\n",
    "            loss += current_loss\n",
    "            gen_loss += curr_gen_loss\n",
    "            dis_loss += curr_dis_loss\n",
    "            if i%500==0:\n",
    "                total_loss.append(loss)\n",
    "                print(\"Loss at iteration {}: {}\".format(i, loss))\n",
    "                print(\"Gen loss at iteration {}: {}\".format(i, gen_loss))\n",
    "                print(\"Dis loss at iteration {}: {}\".format(i, dis_loss))\n",
    "                loss = 0\n",
    "                gen_loss = 0\n",
    "                dis_loss = 0\n",
    "\n",
    "    plot_loss(total_loss)\n",
    "            "
   ]
  },
  {
   "cell_type": "code",
   "execution_count": 18,
   "metadata": {},
   "outputs": [],
   "source": [
    "def plot_loss(loss_list):\n",
    "    plt.figure()\n",
    "    plt.plot(total_loss)"
   ]
  },
  {
   "cell_type": "code",
   "execution_count": 38,
   "metadata": {},
   "outputs": [
    {
     "data": {
      "text/plain": [
       "Generator(\n",
       "  (noise2hidden): Linear(in_features=10, out_features=500, bias=True)\n",
       "  (tanh): Tanh()\n",
       "  (rnn): GRU(100, 100, num_layers=5)\n",
       ")"
      ]
     },
     "execution_count": 38,
     "metadata": {},
     "output_type": "execute_result"
    }
   ],
   "source": [
    "generator = Generator(noise_dim=10, embed_dimension=100, num_layers=5)\n",
    "generator.to(device)"
   ]
  },
  {
   "cell_type": "code",
   "execution_count": 39,
   "metadata": {},
   "outputs": [
    {
     "data": {
      "text/plain": [
       "Discriminator(\n",
       "  (rnn): GRU(100, 10, batch_first=True, bidirectional=True)\n",
       "  (fc1): Linear(in_features=20, out_features=300, bias=True)\n",
       "  (fc2): Linear(in_features=300, out_features=1, bias=True)\n",
       "  (activation_fc1): SELU()\n",
       "  (activation_fc2): Sigmoid()\n",
       ")"
      ]
     },
     "execution_count": 39,
     "metadata": {},
     "output_type": "execute_result"
    }
   ],
   "source": [
    "discriminator = Discriminator(embed_dimension=100, hidden_size=10, num_layers=1)\n",
    "discriminator.to(device)"
   ]
  },
  {
   "cell_type": "code",
   "execution_count": 40,
   "metadata": {},
   "outputs": [],
   "source": [
    "eos = word2idx(model, \"</s>\")"
   ]
  },
  {
   "cell_type": "code",
   "execution_count": 41,
   "metadata": {},
   "outputs": [
    {
     "name": "stderr",
     "output_type": "stream",
     "text": [
      "C:\\Users\\blackbak\\Anaconda3\\envs\\pytorch\\lib\\site-packages\\torch\\nn\\functional.py:1594: UserWarning: Using a target size (torch.Size([1])) that is different to the input size (torch.Size([1, 1])) is deprecated. Please ensure they have the same size.\n",
      "  \"Please ensure they have the same size.\".format(target.size(), input.size()))\n"
     ]
    },
    {
     "name": "stdout",
     "output_type": "stream",
     "text": [
      "Loss at iteration 0: 2.1086478233337402\n",
      "Gen loss at iteration 0: 0.7322961091995239\n",
      "Dis loss at iteration 0: 1.3763518333435059\n",
      "Loss at iteration 500: 1041.207865357399\n",
      "Gen loss at iteration 500: 248.87637948989868\n",
      "Dis loss at iteration 500: 792.3314868211746\n",
      "Loss at iteration 1000: 999.145686507225\n",
      "Gen loss at iteration 1000: 303.7907211780548\n",
      "Dis loss at iteration 1000: 695.354966044426\n",
      "Loss at iteration 1500: 1017.0503695011139\n",
      "Gen loss at iteration 1500: 317.42746007442474\n",
      "Dis loss at iteration 1500: 699.6229059696198\n",
      "Loss at iteration 2000: 1034.3159008026123\n",
      "Gen loss at iteration 2000: 341.48155385255814\n",
      "Dis loss at iteration 2000: 692.8343470096588\n",
      "Loss at iteration 2500: 1044.8993666172028\n",
      "Gen loss at iteration 2500: 352.767207801342\n",
      "Dis loss at iteration 2500: 692.1321614980698\n",
      "Loss at iteration 3000: 1038.8927965164185\n",
      "Gen loss at iteration 3000: 350.2008380293846\n",
      "Dis loss at iteration 3000: 688.6919593811035\n",
      "Loss at iteration 3500: 1023.3239793777466\n",
      "Gen loss at iteration 3500: 337.9297460913658\n",
      "Dis loss at iteration 3500: 685.3942339420319\n",
      "Loss at iteration 4000: 1041.7143383026123\n",
      "Gen loss at iteration 4000: 349.90501087903976\n",
      "Dis loss at iteration 4000: 691.8093274831772\n",
      "Loss at iteration 4500: 1043.0601046085358\n",
      "Gen loss at iteration 4500: 350.1148914694786\n",
      "Dis loss at iteration 4500: 692.9452120065689\n",
      "Loss at iteration 5000: 1042.5624105930328\n",
      "Gen loss at iteration 5000: 350.60619258880615\n",
      "Dis loss at iteration 5000: 691.9562149047852\n",
      "Loss at iteration 5500: 1017.0843350887299\n",
      "Gen loss at iteration 5500: 338.23659884929657\n",
      "Dis loss at iteration 5500: 678.847736954689\n",
      "Loss at iteration 6000: 1032.3823866844177\n",
      "Gen loss at iteration 6000: 339.6920902132988\n",
      "Dis loss at iteration 6000: 692.6902965307236\n",
      "Loss at iteration 6500: 1038.3225677013397\n",
      "Gen loss at iteration 6500: 344.70371502637863\n",
      "Dis loss at iteration 6500: 693.6188554763794\n",
      "Loss at iteration 7000: 1040.371303319931\n",
      "Gen loss at iteration 7000: 347.11375480890274\n",
      "Dis loss at iteration 7000: 693.2575471401215\n",
      "Loss at iteration 7500: 1040.899692773819\n",
      "Gen loss at iteration 7500: 348.2988505959511\n",
      "Dis loss at iteration 7500: 692.6008427143097\n",
      "Loss at iteration 8000: 1040.5209119319916\n",
      "Gen loss at iteration 8000: 351.09383088350296\n",
      "Dis loss at iteration 8000: 689.4270802736282\n",
      "Loss at iteration 8500: 1025.0500936508179\n",
      "Gen loss at iteration 8500: 341.9776157140732\n",
      "Dis loss at iteration 8500: 683.0724791288376\n",
      "Loss at iteration 9000: 1041.84783411026\n",
      "Gen loss at iteration 9000: 351.48157984018326\n",
      "Dis loss at iteration 9000: 690.3662559986115\n",
      "Loss at iteration 9500: 1037.7548418045044\n",
      "Gen loss at iteration 9500: 345.8927233219147\n",
      "Dis loss at iteration 9500: 691.8621155023575\n",
      "Loss at iteration 10000: 1036.4989717006683\n",
      "Gen loss at iteration 10000: 344.3923787474632\n",
      "Dis loss at iteration 10000: 692.1065943241119\n",
      "Loss at iteration 10500: 1038.7351579666138\n",
      "Gen loss at iteration 10500: 345.9631418585777\n",
      "Dis loss at iteration 10500: 692.772015452385\n",
      "Loss at iteration 11000: 1038.6977589130402\n",
      "Gen loss at iteration 11000: 345.8994197845459\n",
      "Dis loss at iteration 11000: 692.7983386516571\n",
      "Loss at iteration 11500: 1038.3967740535736\n",
      "Gen loss at iteration 11500: 345.77499943971634\n",
      "Dis loss at iteration 11500: 692.621776342392\n",
      "Loss at iteration 12000: 1037.5903646945953\n",
      "Gen loss at iteration 12000: 345.40810310840607\n",
      "Dis loss at iteration 12000: 692.1822627782822\n",
      "Loss at iteration 12500: 1037.7964720726013\n",
      "Gen loss at iteration 12500: 347.43096244335175\n",
      "Dis loss at iteration 12500: 690.3655091524124\n",
      "Loss at iteration 13000: 1038.149022102356\n",
      "Gen loss at iteration 13000: 346.41006594896317\n",
      "Dis loss at iteration 13000: 691.7389569282532\n",
      "Loss at iteration 13500: 1036.618450164795\n",
      "Gen loss at iteration 13500: 345.81674087047577\n",
      "Dis loss at iteration 13500: 690.8017086982727\n",
      "Loss at iteration 14000: 1033.989807844162\n",
      "Gen loss at iteration 14000: 345.24613094329834\n",
      "Dis loss at iteration 14000: 688.7436771392822\n",
      "Loss at iteration 14500: 1030.6028430461884\n",
      "Gen loss at iteration 14500: 343.87635415792465\n",
      "Dis loss at iteration 14500: 686.7264913320541\n",
      "Loss at iteration 15000: 1034.5460703372955\n",
      "Gen loss at iteration 15000: 346.40464049577713\n",
      "Dis loss at iteration 15000: 688.1414309740067\n",
      "Loss at iteration 15500: 1038.6916880607605\n",
      "Gen loss at iteration 15500: 346.62097603082657\n",
      "Dis loss at iteration 15500: 692.0707108974457\n",
      "Loss at iteration 16000: 1033.4056539535522\n",
      "Gen loss at iteration 16000: 345.8090225458145\n",
      "Dis loss at iteration 16000: 687.5966308116913\n",
      "Loss at iteration 16500: 1016.1717294454575\n",
      "Gen loss at iteration 16500: 344.6119881272316\n",
      "Dis loss at iteration 16500: 671.5597426891327\n",
      "Loss at iteration 17000: 1022.0940587520599\n",
      "Gen loss at iteration 17000: 345.98706036806107\n",
      "Dis loss at iteration 17000: 676.1069980859756\n",
      "Loss at iteration 17500: 1009.4367837905884\n",
      "Gen loss at iteration 17500: 345.8956468105316\n",
      "Dis loss at iteration 17500: 663.5411369800568\n",
      "Loss at iteration 18000: 983.5016596317291\n",
      "Gen loss at iteration 18000: 350.78077882528305\n",
      "Dis loss at iteration 18000: 632.7208807468414\n",
      "Loss at iteration 18500: 951.4093955755234\n",
      "Gen loss at iteration 18500: 364.28868091106415\n",
      "Dis loss at iteration 18500: 587.1207150220871\n",
      "Loss at iteration 19000: 913.3628332614899\n",
      "Gen loss at iteration 19000: 406.5071664452553\n",
      "Dis loss at iteration 19000: 506.85566490888596\n",
      "Loss at iteration 19500: 978.178624868393\n",
      "Gen loss at iteration 19500: 323.71403735876083\n",
      "Dis loss at iteration 19500: 654.4645882844925\n",
      "Loss at iteration 20000: 999.6358716487885\n",
      "Gen loss at iteration 20000: 374.73126870393753\n",
      "Dis loss at iteration 20000: 624.9046028852463\n",
      "Loss at iteration 20500: 950.5184791088104\n",
      "Gen loss at iteration 20500: 440.74725955724716\n",
      "Dis loss at iteration 20500: 509.7712194919586\n",
      "Loss at iteration 21000: 915.4789433479309\n",
      "Gen loss at iteration 21000: 496.05347353219986\n",
      "Dis loss at iteration 21000: 419.4254704117775\n",
      "Loss at iteration 21500: 959.9444763660431\n",
      "Gen loss at iteration 21500: 366.4622913002968\n",
      "Dis loss at iteration 21500: 593.4821836948395\n",
      "Loss at iteration 22000: 952.0222331285477\n",
      "Gen loss at iteration 22000: 444.3255506157875\n",
      "Dis loss at iteration 22000: 507.6966829895973\n",
      "Loss at iteration 22500: 923.0909012556076\n",
      "Gen loss at iteration 22500: 530.7404081821442\n",
      "Dis loss at iteration 22500: 392.3504945039749\n",
      "Loss at iteration 23000: 925.9584525823593\n",
      "Gen loss at iteration 23000: 621.271973490715\n",
      "Dis loss at iteration 23000: 304.68647879362106\n",
      "Loss at iteration 23500: 888.4502147436142\n",
      "Gen loss at iteration 23500: 445.6130641102791\n",
      "Dis loss at iteration 23500: 442.8371514379978\n",
      "Loss at iteration 24000: 909.4867197275162\n",
      "Gen loss at iteration 24000: 484.07123440504074\n",
      "Dis loss at iteration 24000: 425.4154851436615\n",
      "Loss at iteration 24500: 911.8526421785355\n",
      "Gen loss at iteration 24500: 568.8687154054642\n",
      "Dis loss at iteration 24500: 342.9839271903038\n",
      "Loss at iteration 25000: 865.0556408166885\n",
      "Gen loss at iteration 25000: 495.38965702056885\n",
      "Dis loss at iteration 25000: 369.6659828424454\n",
      "Loss at iteration 25500: 928.0387108325958\n",
      "Gen loss at iteration 25500: 578.3665803670883\n",
      "Dis loss at iteration 25500: 349.6721308231354\n",
      "Loss at iteration 26000: 910.8065041303635\n",
      "Gen loss at iteration 26000: 474.31374993920326\n",
      "Dis loss at iteration 26000: 436.4927533864975\n",
      "Loss at iteration 26500: 920.3831046819687\n",
      "Gen loss at iteration 26500: 541.5038042664528\n",
      "Dis loss at iteration 26500: 378.87929862737656\n",
      "Loss at iteration 27000: 945.8491106033325\n",
      "Gen loss at iteration 27000: 663.8473701477051\n",
      "Dis loss at iteration 27000: 282.001740694046\n",
      "Loss at iteration 27500: 898.3277586698532\n",
      "Gen loss at iteration 27500: 589.4765388965607\n",
      "Dis loss at iteration 27500: 308.8512202501297\n",
      "Loss at iteration 28000: 894.6833145618439\n",
      "Gen loss at iteration 28000: 536.6627382040024\n",
      "Dis loss at iteration 28000: 358.02057629823685\n",
      "Loss at iteration 28500: 947.4863985776901\n",
      "Gen loss at iteration 28500: 648.6796571016312\n",
      "Dis loss at iteration 28500: 298.8067425787449\n",
      "Loss at iteration 29000: 1087.1866164207458\n",
      "Gen loss at iteration 29000: 916.6708205938339\n",
      "Dis loss at iteration 29000: 170.51579508185387\n",
      "Loss at iteration 29500: 1248.6782250404358\n",
      "Gen loss at iteration 29500: 1147.8524091243744\n",
      "Dis loss at iteration 29500: 100.82581640779972\n",
      "Loss at iteration 30000: 934.5508399009705\n",
      "Gen loss at iteration 30000: 688.6526942849159\n",
      "Dis loss at iteration 30000: 245.8981468230486\n",
      "Loss at iteration 30500: 1036.8216428756714\n",
      "Gen loss at iteration 30500: 832.26901948452\n",
      "Dis loss at iteration 30500: 204.55262318253517\n",
      "Loss at iteration 31000: 1115.9485280513763\n",
      "Gen loss at iteration 31000: 977.1087845563889\n",
      "Dis loss at iteration 31000: 138.8397435247898\n",
      "Loss at iteration 31500: 1257.8765313625336\n",
      "Gen loss at iteration 31500: 1162.7035059928894\n",
      "Dis loss at iteration 31500: 95.173025354743\n",
      "Loss at iteration 32000: 1306.4791691303253\n",
      "Gen loss at iteration 32000: 1231.8744497299194\n",
      "Dis loss at iteration 32000: 74.60471669584513\n",
      "Loss at iteration 32500: 1116.987068772316\n",
      "Gen loss at iteration 32500: 993.43261885643\n",
      "Dis loss at iteration 32500: 123.55444984138012\n",
      "Loss at iteration 33000: 1129.595061302185\n",
      "Gen loss at iteration 33000: 994.3026729822159\n",
      "Dis loss at iteration 33000: 135.2923887372017\n",
      "Loss at iteration 33500: 1356.4971239566803\n",
      "Gen loss at iteration 33500: 1280.4499988555908\n",
      "Dis loss at iteration 33500: 76.04712686687708\n",
      "Loss at iteration 34000: 1521.774924993515\n",
      "Gen loss at iteration 34000: 1471.5642399787903\n",
      "Dis loss at iteration 34000: 50.210684195160866\n",
      "Loss at iteration 34500: 1730.1970689296722\n",
      "Gen loss at iteration 34500: 1698.6843194961548\n",
      "Dis loss at iteration 34500: 31.512748260051012\n",
      "Loss at iteration 35000: 1702.299072265625\n",
      "Gen loss at iteration 35000: 1670.1404902935028\n",
      "Dis loss at iteration 35000: 32.15858368948102\n",
      "Loss at iteration 35500: 1671.0201139450073\n",
      "Gen loss at iteration 35500: 1633.2445750236511\n",
      "Dis loss at iteration 35500: 37.775539964437485\n"
     ]
    },
    {
     "ename": "KeyboardInterrupt",
     "evalue": "",
     "output_type": "error",
     "traceback": [
      "\u001b[1;31m---------------------------------------------------------------------------\u001b[0m",
      "\u001b[1;31mKeyboardInterrupt\u001b[0m                         Traceback (most recent call last)",
      "\u001b[1;32m<ipython-input-41-910510fcc339>\u001b[0m in \u001b[0;36m<module>\u001b[1;34m()\u001b[0m\n\u001b[0;32m      1\u001b[0m train_iter(generator=generator, discriminator=discriminator, \n\u001b[1;32m----> 2\u001b[1;33m            dataset=questions_idx, embedding=embedding, eos=eos, epochs=1, lr_g=0.001, lr_d=0.00001)\n\u001b[0m",
      "\u001b[1;32m<ipython-input-17-05356bed4f05>\u001b[0m in \u001b[0;36mtrain_iter\u001b[1;34m(generator, discriminator, dataset, embedding, eos, epochs, lr_g, lr_d)\u001b[0m\n\u001b[0;32m     13\u001b[0m             current_loss, curr_gen_loss, curr_dis_loss = train(generator=generator, discriminator=discriminator, input_sequence=embeds, \n\u001b[0;32m     14\u001b[0m                                  \u001b[0membedding\u001b[0m\u001b[1;33m=\u001b[0m\u001b[0membedding\u001b[0m\u001b[1;33m,\u001b[0m \u001b[0mgenerator_optimizer\u001b[0m\u001b[1;33m=\u001b[0m\u001b[0mgenerator_optimizer\u001b[0m\u001b[1;33m,\u001b[0m\u001b[1;33m\u001b[0m\u001b[0m\n\u001b[1;32m---> 15\u001b[1;33m                                  discriminator_optimizer=discriminator_optimizer, criterion=criterion, eos=eos)\n\u001b[0m\u001b[0;32m     16\u001b[0m             \u001b[0mloss\u001b[0m \u001b[1;33m+=\u001b[0m \u001b[0mcurrent_loss\u001b[0m\u001b[1;33m\u001b[0m\u001b[0m\n\u001b[0;32m     17\u001b[0m             \u001b[0mgen_loss\u001b[0m \u001b[1;33m+=\u001b[0m \u001b[0mcurr_gen_loss\u001b[0m\u001b[1;33m\u001b[0m\u001b[0m\n",
      "\u001b[1;32m<ipython-input-16-6222516a4319>\u001b[0m in \u001b[0;36mtrain\u001b[1;34m(generator, discriminator, input_sequence, embedding, generator_optimizer, discriminator_optimizer, criterion, eos)\u001b[0m\n\u001b[0;32m     34\u001b[0m     \u001b[0mfake_labels_gen\u001b[0m \u001b[1;33m=\u001b[0m \u001b[0mtorch\u001b[0m\u001b[1;33m.\u001b[0m\u001b[0mones\u001b[0m\u001b[1;33m(\u001b[0m\u001b[1;36m1\u001b[0m\u001b[1;33m,\u001b[0m \u001b[0mdevice\u001b[0m\u001b[1;33m=\u001b[0m\u001b[0mdevice\u001b[0m\u001b[1;33m)\u001b[0m\u001b[1;33m\u001b[0m\u001b[0m\n\u001b[0;32m     35\u001b[0m     \u001b[0mgenerator_error\u001b[0m \u001b[1;33m=\u001b[0m \u001b[0mcriterion\u001b[0m\u001b[1;33m(\u001b[0m\u001b[0mfake_output_gen\u001b[0m\u001b[1;33m,\u001b[0m \u001b[0mfake_labels_gen\u001b[0m\u001b[1;33m)\u001b[0m\u001b[1;33m\u001b[0m\u001b[0m\n\u001b[1;32m---> 36\u001b[1;33m     \u001b[0mgenerator_error\u001b[0m\u001b[1;33m.\u001b[0m\u001b[0mbackward\u001b[0m\u001b[1;33m(\u001b[0m\u001b[1;33m)\u001b[0m\u001b[1;33m\u001b[0m\u001b[0m\n\u001b[0m\u001b[0;32m     37\u001b[0m     \u001b[0mgenerator_optimizer\u001b[0m\u001b[1;33m.\u001b[0m\u001b[0mstep\u001b[0m\u001b[1;33m(\u001b[0m\u001b[1;33m)\u001b[0m\u001b[1;33m\u001b[0m\u001b[0m\n\u001b[0;32m     38\u001b[0m     \u001b[0mloss\u001b[0m \u001b[1;33m=\u001b[0m \u001b[0mdiscriminator_error\u001b[0m \u001b[1;33m+\u001b[0m \u001b[0mgenerator_error\u001b[0m\u001b[1;33m\u001b[0m\u001b[0m\n",
      "\u001b[1;32m~\\Anaconda3\\envs\\pytorch\\lib\\site-packages\\torch\\tensor.py\u001b[0m in \u001b[0;36mbackward\u001b[1;34m(self, gradient, retain_graph, create_graph)\u001b[0m\n\u001b[0;32m     91\u001b[0m                 \u001b[0mproducts\u001b[0m\u001b[1;33m.\u001b[0m \u001b[0mDefaults\u001b[0m \u001b[0mto\u001b[0m\u001b[0;31m \u001b[0m\u001b[0;31m`\u001b[0m\u001b[0;31m`\u001b[0m\u001b[1;32mFalse\u001b[0m\u001b[0;31m`\u001b[0m\u001b[0;31m`\u001b[0m\u001b[1;33m.\u001b[0m\u001b[1;33m\u001b[0m\u001b[0m\n\u001b[0;32m     92\u001b[0m         \"\"\"\n\u001b[1;32m---> 93\u001b[1;33m         \u001b[0mtorch\u001b[0m\u001b[1;33m.\u001b[0m\u001b[0mautograd\u001b[0m\u001b[1;33m.\u001b[0m\u001b[0mbackward\u001b[0m\u001b[1;33m(\u001b[0m\u001b[0mself\u001b[0m\u001b[1;33m,\u001b[0m \u001b[0mgradient\u001b[0m\u001b[1;33m,\u001b[0m \u001b[0mretain_graph\u001b[0m\u001b[1;33m,\u001b[0m \u001b[0mcreate_graph\u001b[0m\u001b[1;33m)\u001b[0m\u001b[1;33m\u001b[0m\u001b[0m\n\u001b[0m\u001b[0;32m     94\u001b[0m \u001b[1;33m\u001b[0m\u001b[0m\n\u001b[0;32m     95\u001b[0m     \u001b[1;32mdef\u001b[0m \u001b[0mregister_hook\u001b[0m\u001b[1;33m(\u001b[0m\u001b[0mself\u001b[0m\u001b[1;33m,\u001b[0m \u001b[0mhook\u001b[0m\u001b[1;33m)\u001b[0m\u001b[1;33m:\u001b[0m\u001b[1;33m\u001b[0m\u001b[0m\n",
      "\u001b[1;32m~\\Anaconda3\\envs\\pytorch\\lib\\site-packages\\torch\\autograd\\__init__.py\u001b[0m in \u001b[0;36mbackward\u001b[1;34m(tensors, grad_tensors, retain_graph, create_graph, grad_variables)\u001b[0m\n\u001b[0;32m     88\u001b[0m     Variable._execution_engine.run_backward(\n\u001b[0;32m     89\u001b[0m         \u001b[0mtensors\u001b[0m\u001b[1;33m,\u001b[0m \u001b[0mgrad_tensors\u001b[0m\u001b[1;33m,\u001b[0m \u001b[0mretain_graph\u001b[0m\u001b[1;33m,\u001b[0m \u001b[0mcreate_graph\u001b[0m\u001b[1;33m,\u001b[0m\u001b[1;33m\u001b[0m\u001b[0m\n\u001b[1;32m---> 90\u001b[1;33m         allow_unreachable=True)  # allow_unreachable flag\n\u001b[0m\u001b[0;32m     91\u001b[0m \u001b[1;33m\u001b[0m\u001b[0m\n\u001b[0;32m     92\u001b[0m \u001b[1;33m\u001b[0m\u001b[0m\n",
      "\u001b[1;31mKeyboardInterrupt\u001b[0m: "
     ]
    }
   ],
   "source": [
    "train_iter(generator=generator, discriminator=discriminator, \n",
    "           dataset=questions_idx, embedding=embedding, eos=eos, epochs=1, lr_g=0.001, lr_d=0.00001)"
   ]
  },
  {
   "cell_type": "code",
   "execution_count": 42,
   "metadata": {},
   "outputs": [],
   "source": [
    "def generate_question(generator, embedding, model):\n",
    "    generated_sequence = []\n",
    "    generated_idx = []\n",
    "    generated_words = []\n",
    "    noise = torch.randn(generator.noise_dim).to(device)\n",
    "    o_gen = torch.zeros(embedding.weight.shape[1], device=device).view(1,1,-1)\n",
    "    h_gen = generator.init_hidden(noise)\n",
    "    for i in range(20):\n",
    "        o_gen, h_gen = generator.forward(o_gen, h_gen)\n",
    "        generated_sequence.append(o_gen)\n",
    "        idx = most_similar(embedding, o_gen)\n",
    "        generated_idx.append(idx)\n",
    "        generated_words.append(idx2word(model, idx))\n",
    "        if idx==eos:\n",
    "            break\n",
    "    return generated_words, generated_idx"
   ]
  },
  {
   "cell_type": "code",
   "execution_count": 51,
   "metadata": {},
   "outputs": [],
   "source": [
    "q, idx = generate_question(generator, embedding, model)"
   ]
  },
  {
   "cell_type": "code",
   "execution_count": 52,
   "metadata": {},
   "outputs": [
    {
     "data": {
      "text/plain": [
       "['has',\n",
       " 'name',\n",
       " 'as',\n",
       " 'much',\n",
       " 'as',\n",
       " 'as',\n",
       " 'as',\n",
       " 'as',\n",
       " 'as',\n",
       " 'as',\n",
       " 'as',\n",
       " 'as',\n",
       " 'as',\n",
       " 'as',\n",
       " 'as',\n",
       " 'as',\n",
       " 'as',\n",
       " 'as',\n",
       " 'as',\n",
       " 'as']"
      ]
     },
     "execution_count": 52,
     "metadata": {},
     "output_type": "execute_result"
    }
   ],
   "source": [
    "q"
   ]
  },
  {
   "cell_type": "code",
   "execution_count": null,
   "metadata": {},
   "outputs": [],
   "source": [
    "generator.parameters()"
   ]
  },
  {
   "cell_type": "code",
   "execution_count": 42,
   "metadata": {},
   "outputs": [],
   "source": [
    "#### some changes for tracking"
   ]
  },
  {
   "cell_type": "code",
   "execution_count": 55,
   "metadata": {},
   "outputs": [
    {
     "data": {
      "text/plain": [
       "True"
      ]
     },
     "execution_count": 55,
     "metadata": {},
     "output_type": "execute_result"
    }
   ],
   "source": [
    "torch.backends.cudnn.enabled"
   ]
  },
  {
   "cell_type": "code",
   "execution_count": null,
   "metadata": {},
   "outputs": [],
   "source": []
  }
 ],
 "metadata": {
  "kernelspec": {
   "display_name": "PyTorch",
   "language": "python",
   "name": "pytorch"
  },
  "language_info": {
   "codemirror_mode": {
    "name": "ipython",
    "version": 3
   },
   "file_extension": ".py",
   "mimetype": "text/x-python",
   "name": "python",
   "nbconvert_exporter": "python",
   "pygments_lexer": "ipython3",
   "version": "3.7.0"
  }
 },
 "nbformat": 4,
 "nbformat_minor": 2
}
